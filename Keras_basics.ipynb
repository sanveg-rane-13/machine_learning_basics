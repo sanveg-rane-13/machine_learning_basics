{
  "nbformat": 4,
  "nbformat_minor": 0,
  "metadata": {
    "colab": {
      "name": "Keras_basics.ipynb",
      "provenance": [],
      "collapsed_sections": [
        "jDh8Isb1ZVuN",
        "rUPlUycYTHnY",
        "ZdqsxoE-7w_a"
      ],
      "authorship_tag": "ABX9TyMfFpqmUE7Kr4F2ckNKX0Qz",
      "include_colab_link": true
    },
    "kernelspec": {
      "name": "python3",
      "display_name": "Python 3"
    },
    "accelerator": "GPU"
  },
  "cells": [
    {
      "cell_type": "markdown",
      "metadata": {
        "id": "view-in-github",
        "colab_type": "text"
      },
      "source": [
        "<a href=\"https://colab.research.google.com/github/sanveg-rane-13/machine_learning_basics/blob/master/Keras_basics.ipynb\" target=\"_parent\"><img src=\"https://colab.research.google.com/assets/colab-badge.svg\" alt=\"Open In Colab\"/></a>"
      ]
    },
    {
      "cell_type": "markdown",
      "metadata": {
        "id": "Rn6FpkEnBJJb",
        "colab_type": "text"
      },
      "source": [
        "**Train deep neural networks with Keras and evaluate them**"
      ]
    },
    {
      "cell_type": "markdown",
      "metadata": {
        "id": "jDh8Isb1ZVuN",
        "colab_type": "text"
      },
      "source": [
        "# Basic keras NN"
      ]
    },
    {
      "cell_type": "code",
      "metadata": {
        "id": "Dk4_gkAaBBUg",
        "colab_type": "code",
        "colab": {}
      },
      "source": [
        "import tensorflow as tf\n",
        "import numpy as np\n",
        "\n",
        "from tensorflow import keras\n",
        "from tensorflow.keras import layers\n",
        "from tensorflow.keras.models import Sequential\n",
        "from tensorflow.keras.layers import Activation, Dense, LSTM\n",
        "from tensorflow.keras import losses, optimizers, metrics"
      ],
      "execution_count": 0,
      "outputs": []
    },
    {
      "cell_type": "markdown",
      "metadata": {
        "id": "RQY_5qGlKgFV",
        "colab_type": "text"
      },
      "source": [
        "**Basic Keras layer**\n",
        "\n",
        "- Input layer, Hidden layer and Output layer"
      ]
    },
    {
      "cell_type": "code",
      "metadata": {
        "id": "ouTII_fKKiPF",
        "colab_type": "code",
        "colab": {}
      },
      "source": [
        "model = Sequential()\n",
        "\n",
        "input_layer = Dense(32, activation='relu', input_shape=(8,))\n",
        "model.add(input_layer)\n",
        "\n",
        "hidden_layer = Dense(64, activation='relu')\n",
        "model.add(hidden_layer)\n",
        "\n",
        "output_layer = Dense(8)\n",
        "model.add(output_layer)"
      ],
      "execution_count": 0,
      "outputs": []
    },
    {
      "cell_type": "code",
      "metadata": {
        "id": "Wocvs6AwLY4l",
        "colab_type": "code",
        "outputId": "cc7ec4ea-daae-4f04-85da-d242d1e1821a",
        "colab": {
          "base_uri": "https://localhost:8080/",
          "height": 255
        }
      },
      "source": [
        "model.summary()"
      ],
      "execution_count": 0,
      "outputs": [
        {
          "output_type": "stream",
          "text": [
            "Model: \"sequential\"\n",
            "_________________________________________________________________\n",
            "Layer (type)                 Output Shape              Param #   \n",
            "=================================================================\n",
            "dense (Dense)                (None, 32)                288       \n",
            "_________________________________________________________________\n",
            "dense_1 (Dense)              (None, 64)                2112      \n",
            "_________________________________________________________________\n",
            "dense_2 (Dense)              (None, 8)                 520       \n",
            "=================================================================\n",
            "Total params: 2,920\n",
            "Trainable params: 2,920\n",
            "Non-trainable params: 0\n",
            "_________________________________________________________________\n"
          ],
          "name": "stdout"
        }
      ]
    },
    {
      "cell_type": "code",
      "metadata": {
        "id": "6KH_H4xzN-AG",
        "colab_type": "code",
        "colab": {}
      },
      "source": [
        "model.compile(optimizer = 'sgd', \n",
        "              loss = 'mean_squared_error', \n",
        "              metrics = [metrics.categorical_accuracy])"
      ],
      "execution_count": 0,
      "outputs": []
    },
    {
      "cell_type": "markdown",
      "metadata": {
        "id": "-4CwrA8nOkZZ",
        "colab_type": "text"
      },
      "source": [
        "**Creating data**\n",
        "- creating random data using numpy\n",
        "- creating random validation data"
      ]
    },
    {
      "cell_type": "code",
      "metadata": {
        "id": "B5CGLrTyOl-R",
        "colab_type": "code",
        "colab": {}
      },
      "source": [
        "x_train = np.random.random((10,10,10)) \n",
        "y_train = np.random.random((10,10))"
      ],
      "execution_count": 0,
      "outputs": []
    },
    {
      "cell_type": "code",
      "metadata": {
        "id": "kHWmsWLSO76G",
        "colab_type": "code",
        "colab": {}
      },
      "source": [
        "x_val = np.random.random((10,10,10)) \n",
        "y_val = np.random.random((10,10))"
      ],
      "execution_count": 0,
      "outputs": []
    },
    {
      "cell_type": "code",
      "metadata": {
        "id": "991agUa_Pzot",
        "colab_type": "code",
        "colab": {}
      },
      "source": [
        "epochs = 5\n",
        "batch_size = 32"
      ],
      "execution_count": 0,
      "outputs": []
    },
    {
      "cell_type": "markdown",
      "metadata": {
        "id": "oUhRvdN8PFOJ",
        "colab_type": "text"
      },
      "source": [
        "**Building a simple model**"
      ]
    },
    {
      "cell_type": "code",
      "metadata": {
        "id": "VbO7Zs7QPIGo",
        "colab_type": "code",
        "colab": {}
      },
      "source": [
        "lstm_model = Sequential()"
      ],
      "execution_count": 0,
      "outputs": []
    },
    {
      "cell_type": "code",
      "metadata": {
        "id": "35nMxwCxPLtF",
        "colab_type": "code",
        "colab": {}
      },
      "source": [
        "lstm_model.add(Dense(16, activation = 'relu', input_shape=(10,10)))\n",
        "lstm_model.add(LSTM(16, return_sequences = True))\n",
        "lstm_model.add(Dense(10, activation = 'softmax'))"
      ],
      "execution_count": 0,
      "outputs": []
    },
    {
      "cell_type": "code",
      "metadata": {
        "id": "ngS7cW0_PjzJ",
        "colab_type": "code",
        "colab": {}
      },
      "source": [
        "lstm_model.compile(loss = 'categorical_crossentropy',\n",
        "                   optimizer = 'sgd',\n",
        "                   metrics = ['accuracy'])"
      ],
      "execution_count": 0,
      "outputs": []
    },
    {
      "cell_type": "code",
      "metadata": {
        "id": "NC5o8aP7S9mW",
        "colab_type": "code",
        "colab": {}
      },
      "source": [
        "lstm_model.fit(x_train, y_train, batch_size = batch_size, epochs = epochs, validation_data = (x_val, y_val))"
      ],
      "execution_count": 0,
      "outputs": []
    },
    {
      "cell_type": "markdown",
      "metadata": {
        "id": "rUPlUycYTHnY",
        "colab_type": "text"
      },
      "source": [
        "# Multi layer perceptron ANN"
      ]
    },
    {
      "cell_type": "code",
      "metadata": {
        "id": "9SRTYm-STtCZ",
        "colab_type": "code",
        "colab": {}
      },
      "source": [
        "import tensorflow as tf\n",
        "import numpy as np\n",
        "\n",
        "from tensorflow import keras\n",
        "from tensorflow.keras import layers, losses, optimizers, metrics\n",
        "from tensorflow.keras.models import Sequential\n",
        "from tensorflow.keras.layers import Activation, Dense, Dropout\n",
        "from tensorflow.keras.optimizers import RMSprop\n",
        "from tensorflow.keras.datasets import mnist"
      ],
      "execution_count": 0,
      "outputs": []
    },
    {
      "cell_type": "markdown",
      "metadata": {
        "id": "eG5xtc_6TYPt",
        "colab_type": "text"
      },
      "source": [
        "**Input Dataset module**\n",
        "\n",
        "1.   Load MNIST database of handwritten digits\n",
        "2.   Process the data\n"
      ]
    },
    {
      "cell_type": "code",
      "metadata": {
        "id": "sa_PAPdLTHUV",
        "colab_type": "code",
        "outputId": "ebdf075a-9edb-49e7-d4cb-7740111b0d9f",
        "colab": {
          "base_uri": "https://localhost:8080/"
        }
      },
      "source": [
        "(x_train, y_train), (x_test, y_test) = mnist.load_data()"
      ],
      "execution_count": 0,
      "outputs": [
        {
          "output_type": "stream",
          "text": [
            "Downloading data from https://storage.googleapis.com/tensorflow/tf-keras-datasets/mnist.npz\n",
            "11493376/11490434 [==============================] - 0s 0us/step\n"
          ],
          "name": "stdout"
        }
      ]
    },
    {
      "cell_type": "code",
      "metadata": {
        "id": "5ickZRZDVho7",
        "colab_type": "code",
        "colab": {}
      },
      "source": [
        "x_train = x_train.reshape(60000, 784) \n",
        "x_test = x_test.reshape(10000, 784) \n",
        "x_train = x_train.astype('float32') \n",
        "x_test = x_test.astype('float32') \n",
        "x_train /= 255 \n",
        "x_test /= 255\n",
        "\n",
        "y_train = keras.utils.to_categorical(y_train, 10) \n",
        "y_test = keras.utils.to_categorical(y_test, 10)"
      ],
      "execution_count": 0,
      "outputs": []
    },
    {
      "cell_type": "markdown",
      "metadata": {
        "id": "kYP4pC-rUTxn",
        "colab_type": "text"
      },
      "source": [
        "**Creating the model**\n",
        "\n",
        "Layers in the network:\n",
        "- Input layer - 784 features with input and weights\n",
        "- Hidden layer 1 - 512 neurons and relu activation, add a dropout\n",
        "- Hidden layer 2 - 512 neurons and relu activation, add a dropout\n",
        "- Output layer - 10 classifications and softmax activation"
      ]
    },
    {
      "cell_type": "code",
      "metadata": {
        "id": "WitpFn1sULT3",
        "colab_type": "code",
        "colab": {}
      },
      "source": [
        "model = Sequential()"
      ],
      "execution_count": 0,
      "outputs": []
    },
    {
      "cell_type": "code",
      "metadata": {
        "id": "o8Wjc1IeWUO0",
        "colab_type": "code",
        "colab": {}
      },
      "source": [
        "model.add(Dense(512, activation = 'relu', input_shape = (784,)))\n",
        "model.add(Dropout(0.2))\n",
        "\n",
        "model.add(Dense(512, activation = 'relu'))\n",
        "model.add(Dropout(0.2))\n",
        "\n",
        "model.add(Dense(10, activation = 'softmax'))"
      ],
      "execution_count": 0,
      "outputs": []
    },
    {
      "cell_type": "markdown",
      "metadata": {
        "id": "ex3_ku_YUxny",
        "colab_type": "text"
      },
      "source": [
        "**Building the model**\n",
        "- Loss function - categorical_crossentropy\n",
        "- Optimization funtion - RMSprop"
      ]
    },
    {
      "cell_type": "code",
      "metadata": {
        "id": "1bSZKiL3W3Ee",
        "colab_type": "code",
        "colab": {}
      },
      "source": [
        "model.compile(\n",
        "    loss = 'categorical_crossentropy',\n",
        "    optimizer = RMSprop(),\n",
        "    metrics = ['accuracy']\n",
        ")"
      ],
      "execution_count": 0,
      "outputs": []
    },
    {
      "cell_type": "markdown",
      "metadata": {
        "id": "ZmJpYUCxXS3s",
        "colab_type": "text"
      },
      "source": [
        "**Training the model**"
      ]
    },
    {
      "cell_type": "code",
      "metadata": {
        "id": "DehJC_gVXfJN",
        "colab_type": "code",
        "colab": {}
      },
      "source": [
        "batch_size = 128\n",
        "epochs = 20"
      ],
      "execution_count": 0,
      "outputs": []
    },
    {
      "cell_type": "code",
      "metadata": {
        "id": "cfOMzuRXXVtM",
        "colab_type": "code",
        "outputId": "d373ab9d-08cc-4eb3-d47b-c387e684172b",
        "colab": {
          "base_uri": "https://localhost:8080/"
        }
      },
      "source": [
        "trained_model = model.fit(\n",
        "    x_train, y_train,\n",
        "    batch_size = batch_size,\n",
        "    epochs = epochs,\n",
        "    verbose = 1,\n",
        "    validation_data = (x_test, y_test)\n",
        ")"
      ],
      "execution_count": 0,
      "outputs": [
        {
          "output_type": "stream",
          "text": [
            "Epoch 1/20\n",
            "469/469 [==============================] - 9s 19ms/step - loss: 0.2459 - accuracy: 0.9242 - val_loss: 0.1170 - val_accuracy: 0.9636\n",
            "Epoch 2/20\n",
            "469/469 [==============================] - 9s 18ms/step - loss: 0.1027 - accuracy: 0.9695 - val_loss: 0.0856 - val_accuracy: 0.9738\n",
            "Epoch 3/20\n",
            "469/469 [==============================] - 9s 18ms/step - loss: 0.0752 - accuracy: 0.9770 - val_loss: 0.0737 - val_accuracy: 0.9794\n",
            "Epoch 4/20\n",
            "469/469 [==============================] - 9s 18ms/step - loss: 0.0611 - accuracy: 0.9816 - val_loss: 0.0707 - val_accuracy: 0.9810\n",
            "Epoch 5/20\n",
            "469/469 [==============================] - 9s 18ms/step - loss: 0.0509 - accuracy: 0.9844 - val_loss: 0.0649 - val_accuracy: 0.9825\n",
            "Epoch 6/20\n",
            "469/469 [==============================] - 9s 19ms/step - loss: 0.0429 - accuracy: 0.9872 - val_loss: 0.0729 - val_accuracy: 0.9821\n",
            "Epoch 7/20\n",
            "469/469 [==============================] - 9s 18ms/step - loss: 0.0360 - accuracy: 0.9886 - val_loss: 0.0775 - val_accuracy: 0.9812\n",
            "Epoch 8/20\n",
            "469/469 [==============================] - 9s 18ms/step - loss: 0.0342 - accuracy: 0.9896 - val_loss: 0.0755 - val_accuracy: 0.9812\n",
            "Epoch 9/20\n",
            "469/469 [==============================] - 9s 18ms/step - loss: 0.0312 - accuracy: 0.9908 - val_loss: 0.0842 - val_accuracy: 0.9819\n",
            "Epoch 10/20\n",
            "469/469 [==============================] - 9s 18ms/step - loss: 0.0276 - accuracy: 0.9919 - val_loss: 0.0859 - val_accuracy: 0.9829\n",
            "Epoch 11/20\n",
            "469/469 [==============================] - 9s 18ms/step - loss: 0.0247 - accuracy: 0.9930 - val_loss: 0.0923 - val_accuracy: 0.9836\n",
            "Epoch 12/20\n",
            "469/469 [==============================] - 9s 18ms/step - loss: 0.0231 - accuracy: 0.9934 - val_loss: 0.1074 - val_accuracy: 0.9827\n",
            "Epoch 13/20\n",
            "469/469 [==============================] - 9s 18ms/step - loss: 0.0245 - accuracy: 0.9934 - val_loss: 0.0917 - val_accuracy: 0.9840\n",
            "Epoch 14/20\n",
            "469/469 [==============================] - 9s 18ms/step - loss: 0.0217 - accuracy: 0.9936 - val_loss: 0.1084 - val_accuracy: 0.9829\n",
            "Epoch 15/20\n",
            "469/469 [==============================] - 9s 18ms/step - loss: 0.0201 - accuracy: 0.9943 - val_loss: 0.1072 - val_accuracy: 0.9817\n",
            "Epoch 16/20\n",
            "469/469 [==============================] - 9s 18ms/step - loss: 0.0194 - accuracy: 0.9947 - val_loss: 0.1038 - val_accuracy: 0.9834\n",
            "Epoch 17/20\n",
            "469/469 [==============================] - 9s 19ms/step - loss: 0.0197 - accuracy: 0.9951 - val_loss: 0.1222 - val_accuracy: 0.9822\n",
            "Epoch 18/20\n",
            "469/469 [==============================] - 9s 18ms/step - loss: 0.0171 - accuracy: 0.9952 - val_loss: 0.1202 - val_accuracy: 0.9824\n",
            "Epoch 19/20\n",
            "469/469 [==============================] - 9s 19ms/step - loss: 0.0188 - accuracy: 0.9951 - val_loss: 0.1042 - val_accuracy: 0.9849\n",
            "Epoch 20/20\n",
            "469/469 [==============================] - 9s 18ms/step - loss: 0.0186 - accuracy: 0.9950 - val_loss: 0.1133 - val_accuracy: 0.9846\n"
          ],
          "name": "stdout"
        }
      ]
    },
    {
      "cell_type": "markdown",
      "metadata": {
        "id": "3QyH8By3Z2x5",
        "colab_type": "text"
      },
      "source": [
        "**Evaluating the model**\n",
        "- The tesing accuracy and the loss function value"
      ]
    },
    {
      "cell_type": "code",
      "metadata": {
        "id": "g-ni9kQTZ5z0",
        "colab_type": "code",
        "outputId": "dc2fd911-8c00-47a6-b91d-44c91c3e066f",
        "colab": {
          "base_uri": "https://localhost:8080/"
        }
      },
      "source": [
        "score = model.evaluate(x_test, y_test, verbose=0)\n",
        "\n",
        "print(\"Testing loss: {0:.2%}\".format(score[0]))\n",
        "print(\"Testing accuracy: {0:.2%}\".format(score[1]))"
      ],
      "execution_count": 0,
      "outputs": [
        {
          "output_type": "stream",
          "text": [
            "Testing loss: 11.44%\n",
            "Testing accuracy: 98.46%\n"
          ],
          "name": "stdout"
        }
      ]
    },
    {
      "cell_type": "markdown",
      "metadata": {
        "id": "_00Flpaqas2j",
        "colab_type": "text"
      },
      "source": [
        "**Predictions using the model**\n",
        "\n",
        "- Predicting the first five values in test data"
      ]
    },
    {
      "cell_type": "code",
      "metadata": {
        "id": "u-NcscNta96i",
        "colab_type": "code",
        "outputId": "d03ee2e4-d38a-47d9-c328-21e83bd5da65",
        "colab": {
          "base_uri": "https://localhost:8080/"
        }
      },
      "source": [
        "pred = model.predict(x_test)\n",
        "\n",
        "predicted_val = np.argmax(pred, axis = 1)[:5]\n",
        "actual_val = np.argmax(y_test, axis = 1)[:5]\n",
        "\n",
        "print(predicted_val)\n",
        "print(actual_val)"
      ],
      "execution_count": 0,
      "outputs": [
        {
          "output_type": "stream",
          "text": [
            "[7 2 1 0 4]\n",
            "[7 2 1 0 4]\n"
          ],
          "name": "stdout"
        }
      ]
    },
    {
      "cell_type": "markdown",
      "metadata": {
        "id": "ZdqsxoE-7w_a",
        "colab_type": "text"
      },
      "source": [
        "# Convolutional Neural Network"
      ]
    },
    {
      "cell_type": "markdown",
      "metadata": {
        "id": "-dOyHT1i73_P",
        "colab_type": "text"
      },
      "source": [
        "Converting the digit identification problem from MLP to CNN\n"
      ]
    },
    {
      "cell_type": "code",
      "metadata": {
        "id": "MHvuTCA08M7X",
        "colab_type": "code",
        "colab": {}
      },
      "source": [
        "import tensorflow as tf\n",
        "import numpy as np\n",
        "\n",
        "from tensorflow import keras\n",
        "from tensorflow.keras import backend as K\n",
        "from tensorflow.keras import layers, losses, optimizers, metrics\n",
        "from tensorflow.keras.models import Sequential\n",
        "from tensorflow.keras.layers import Activation, Dense, Dropout, Flatten\n",
        "from tensorflow.keras.layers import Conv2D, MaxPool2D\n",
        "from tensorflow.keras.optimizers import Adadelta\n",
        "from tensorflow.keras.datasets import mnist"
      ],
      "execution_count": 0,
      "outputs": []
    },
    {
      "cell_type": "markdown",
      "metadata": {
        "id": "ELYIqp7b8a9b",
        "colab_type": "text"
      },
      "source": [
        "**Loading data**"
      ]
    },
    {
      "cell_type": "code",
      "metadata": {
        "id": "iwVuXxYc8cRo",
        "colab_type": "code",
        "colab": {}
      },
      "source": [
        "(x_train, y_train), (x_test, y_test) = mnist.load_data()"
      ],
      "execution_count": 0,
      "outputs": []
    },
    {
      "cell_type": "markdown",
      "metadata": {
        "id": "qNpaUAtI9HgQ",
        "colab_type": "text"
      },
      "source": [
        "**Processing the data**\n",
        "- processing data to feed to the model"
      ]
    },
    {
      "cell_type": "code",
      "metadata": {
        "id": "p7PDV0189OjL",
        "colab_type": "code",
        "colab": {}
      },
      "source": [
        "img_rows, img_cols = 28, 28\n",
        "\n",
        "if K.image_data_format() == 'channels_first':\n",
        "  x_train = x_train.reshape(x_train.shape[0], 1, img_rows, img_cols)\n",
        "  x_test = x_test.reshape(x_test.shape[0], 1, img_rows, img_cols)\n",
        "  input_shape = (1, img_rows, img_cols)\n",
        "\n",
        "else:\n",
        "  x_train = x_train.reshape(x_train.shape[0], img_rows, img_cols, 1)\n",
        "  x_test = x_test.reshape(x_test.shape[0], img_rows, img_cols, 1)\n",
        "  input_shape = (img_rows, img_cols, 1)\n",
        "\n",
        "x_train = x_train.astype('float32') \n",
        "x_test = x_test.astype('float32') \n",
        "x_train /= 255 \n",
        "x_test /= 255\n",
        "\n",
        "y_train = keras.utils.to_categorical(y_train, 10) \n",
        "y_test = keras.utils.to_categorical(y_test, 10)"
      ],
      "execution_count": 0,
      "outputs": []
    },
    {
      "cell_type": "markdown",
      "metadata": {
        "id": "PSvYW1Cm8nOV",
        "colab_type": "text"
      },
      "source": [
        "**Creating model**\n",
        "\n",
        "- Input layer\n",
        "- Convolutional layer 1 - shape: 1,28,28; activation: relu; neurons: 32\n",
        "- Convolutional layer 2 - activation: relu, neurons: 64\n",
        "- Pooling layer 1 - pool size: 2,2\n",
        "- Dropout layer\n",
        "- Flatten - flatten all inputs to single dimension\n",
        "- Dense layer - 128 neurons, activation: relu\n",
        "- Dropout layer\n",
        "- Output layer - 10 classifications , activation: softmax"
      ]
    },
    {
      "cell_type": "code",
      "metadata": {
        "id": "BqaEO8xC8oSt",
        "colab_type": "code",
        "colab": {}
      },
      "source": [
        "cnn_model = Sequential()"
      ],
      "execution_count": 0,
      "outputs": []
    },
    {
      "cell_type": "code",
      "metadata": {
        "id": "VQOJ5hSa_HAv",
        "colab_type": "code",
        "colab": {}
      },
      "source": [
        "cnn_model.add(Conv2D(32, input_shape = input_shape, activation = 'relu', kernel_size = (3,3)))\n",
        "cnn_model.add(Conv2D(64, activation = 'relu', kernel_size = (3,3)))\n",
        "cnn_model.add(MaxPool2D(pool_size = (2,2)))\n",
        "cnn_model.add(Dropout(0.25))\n",
        "cnn_model.add(Flatten())\n",
        "cnn_model.add(Dense(128, activation = 'relu'))\n",
        "cnn_model.add(Dropout(0.5))\n",
        "cnn_model.add(Dense(10, activation = 'softmax'))"
      ],
      "execution_count": 0,
      "outputs": []
    },
    {
      "cell_type": "markdown",
      "metadata": {
        "id": "XS9VvfTJARsF",
        "colab_type": "text"
      },
      "source": [
        "**Building the model**\n",
        "- Loss function - categorical_crossentropy\n",
        "- Optimization funtion - Ada delta"
      ]
    },
    {
      "cell_type": "code",
      "metadata": {
        "id": "RGsL4aYFARSf",
        "colab_type": "code",
        "colab": {}
      },
      "source": [
        "cnn_model.compile(\n",
        "    loss = 'categorical_crossentropy',\n",
        "    optimizer = RMSprop(),\n",
        "    metrics = ['accuracy']\n",
        ")"
      ],
      "execution_count": 0,
      "outputs": []
    },
    {
      "cell_type": "markdown",
      "metadata": {
        "id": "SOSBiF9DCdl-",
        "colab_type": "text"
      },
      "source": [
        "**Training the model**"
      ]
    },
    {
      "cell_type": "code",
      "metadata": {
        "id": "jXc3tah8ChAJ",
        "colab_type": "code",
        "colab": {}
      },
      "source": [
        "batch_size = 128\n",
        "epochs = 12\n",
        "verbose = 1 # generated logs"
      ],
      "execution_count": 0,
      "outputs": []
    },
    {
      "cell_type": "code",
      "metadata": {
        "id": "flGfdwWECfUj",
        "colab_type": "code",
        "colab": {
          "base_uri": "https://localhost:8080/",
          "height": 442
        },
        "outputId": "934650f6-4312-4887-d7e9-61b320d22ef7"
      },
      "source": [
        "cnn_model.fit(\n",
        "    x_train, y_train,\n",
        "    batch_size = batch_size,\n",
        "    epochs = epochs,\n",
        "    verbose = verbose,\n",
        "    validation_data = (x_test, y_test)\n",
        ")"
      ],
      "execution_count": 15,
      "outputs": [
        {
          "output_type": "stream",
          "text": [
            "Epoch 1/12\n",
            "469/469 [==============================] - 5s 11ms/step - loss: 0.2229 - accuracy: 0.9316 - val_loss: 0.0645 - val_accuracy: 0.9782\n",
            "Epoch 2/12\n",
            "469/469 [==============================] - 5s 11ms/step - loss: 0.0817 - accuracy: 0.9757 - val_loss: 0.0420 - val_accuracy: 0.9866\n",
            "Epoch 3/12\n",
            "469/469 [==============================] - 5s 11ms/step - loss: 0.0650 - accuracy: 0.9810 - val_loss: 0.0342 - val_accuracy: 0.9889\n",
            "Epoch 4/12\n",
            "469/469 [==============================] - 5s 11ms/step - loss: 0.0547 - accuracy: 0.9840 - val_loss: 0.0347 - val_accuracy: 0.9895\n",
            "Epoch 5/12\n",
            "469/469 [==============================] - 5s 11ms/step - loss: 0.0484 - accuracy: 0.9864 - val_loss: 0.0347 - val_accuracy: 0.9897\n",
            "Epoch 6/12\n",
            "469/469 [==============================] - 5s 11ms/step - loss: 0.0467 - accuracy: 0.9864 - val_loss: 0.0312 - val_accuracy: 0.9903\n",
            "Epoch 7/12\n",
            "469/469 [==============================] - 5s 11ms/step - loss: 0.0468 - accuracy: 0.9866 - val_loss: 0.0290 - val_accuracy: 0.9899\n",
            "Epoch 8/12\n",
            "469/469 [==============================] - 5s 11ms/step - loss: 0.0491 - accuracy: 0.9863 - val_loss: 0.0346 - val_accuracy: 0.9895\n",
            "Epoch 9/12\n",
            "469/469 [==============================] - 5s 11ms/step - loss: 0.0484 - accuracy: 0.9868 - val_loss: 0.0889 - val_accuracy: 0.9867\n",
            "Epoch 10/12\n",
            "469/469 [==============================] - 5s 11ms/step - loss: 0.0502 - accuracy: 0.9859 - val_loss: 0.0451 - val_accuracy: 0.9875\n",
            "Epoch 11/12\n",
            "469/469 [==============================] - 5s 11ms/step - loss: 0.0502 - accuracy: 0.9863 - val_loss: 0.0306 - val_accuracy: 0.9918\n",
            "Epoch 12/12\n",
            "469/469 [==============================] - 5s 11ms/step - loss: 0.0548 - accuracy: 0.9855 - val_loss: 0.0460 - val_accuracy: 0.9903\n"
          ],
          "name": "stdout"
        },
        {
          "output_type": "execute_result",
          "data": {
            "text/plain": [
              "<tensorflow.python.keras.callbacks.History at 0x7ff41a6631d0>"
            ]
          },
          "metadata": {
            "tags": []
          },
          "execution_count": 15
        }
      ]
    },
    {
      "cell_type": "markdown",
      "metadata": {
        "id": "5WNBxblVC2wj",
        "colab_type": "text"
      },
      "source": [
        "**Evaluating the model**"
      ]
    },
    {
      "cell_type": "code",
      "metadata": {
        "id": "3mK8aerWC58f",
        "colab_type": "code",
        "colab": {
          "base_uri": "https://localhost:8080/",
          "height": 51
        },
        "outputId": "04f5a847-b8f4-40f3-9c0f-3ba755444c1d"
      },
      "source": [
        "score = cnn_model.evaluate(x_test, y_test, verbose=0)\n",
        "\n",
        "print(\"Testing loss: {0:.2%}\".format(score[0]))\n",
        "print(\"Testing accuracy: {0:.2%}\".format(score[1]))"
      ],
      "execution_count": 16,
      "outputs": [
        {
          "output_type": "stream",
          "text": [
            "Testing loss: 4.64%\n",
            "Testing accuracy: 99.03%\n"
          ],
          "name": "stdout"
        }
      ]
    },
    {
      "cell_type": "markdown",
      "metadata": {
        "id": "-jkACjN8DBzY",
        "colab_type": "text"
      },
      "source": [
        "**Predictions using the model**\n",
        "\n",
        "- Predicting the first five values in test data"
      ]
    },
    {
      "cell_type": "code",
      "metadata": {
        "id": "uLxvWGmNDCen",
        "colab_type": "code",
        "colab": {
          "base_uri": "https://localhost:8080/",
          "height": 51
        },
        "outputId": "99712868-fd7d-40a4-e7d6-535361339e53"
      },
      "source": [
        "pred = cnn_model.predict(x_test)\n",
        "\n",
        "predicted_val = np.argmax(pred, axis = 1)[:5]\n",
        "actual_val = np.argmax(y_test, axis = 1)[:5]\n",
        "\n",
        "print(predicted_val)\n",
        "print(actual_val)"
      ],
      "execution_count": 17,
      "outputs": [
        {
          "output_type": "stream",
          "text": [
            "[7 2 1 0 4]\n",
            "[7 2 1 0 4]\n"
          ],
          "name": "stdout"
        }
      ]
    },
    {
      "cell_type": "markdown",
      "metadata": {
        "id": "uSpqp2FmIj5U",
        "colab_type": "text"
      },
      "source": [
        "# Regression prediction using MPL"
      ]
    },
    {
      "cell_type": "code",
      "metadata": {
        "id": "0zhjT0oJJeZ_",
        "colab_type": "code",
        "colab": {}
      },
      "source": [
        "import tensorflow as tf\n",
        "import numpy as np\n",
        "\n",
        "from tensorflow import keras\n",
        "from tensorflow.keras import layers, losses, optimizers, metrics\n",
        "from tensorflow.keras.models import Sequential\n",
        "from tensorflow.keras.layers import Activation, Dense\n",
        "from tensorflow.keras.callbacks import EarlyStopping\n",
        "from tensorflow.keras.optimizers import RMSprop\n",
        "from tensorflow.keras.datasets import boston_housing\n",
        "\n",
        "from sklearn import preprocessing\n",
        "from sklearn.preprocessing import scale"
      ],
      "execution_count": 0,
      "outputs": []
    },
    {
      "cell_type": "markdown",
      "metadata": {
        "id": "tRMSrxvNIpyM",
        "colab_type": "text"
      },
      "source": [
        "**Loading data**\n",
        "- Using boston housing data set"
      ]
    },
    {
      "cell_type": "code",
      "metadata": {
        "id": "7iUogsETJdD6",
        "colab_type": "code",
        "colab": {
          "base_uri": "https://localhost:8080/",
          "height": 51
        },
        "outputId": "6627014a-eee2-4a81-f893-334f64ce8c33"
      },
      "source": [
        "(x_train, y_train), (x_test, y_test) = boston_housing.load_data()"
      ],
      "execution_count": 20,
      "outputs": [
        {
          "output_type": "stream",
          "text": [
            "Downloading data from https://storage.googleapis.com/tensorflow/tf-keras-datasets/boston_housing.npz\n",
            "57344/57026 [==============================] - 0s 0us/step\n"
          ],
          "name": "stdout"
        }
      ]
    },
    {
      "cell_type": "code",
      "metadata": {
        "id": "4bDSVEizKRC-",
        "colab_type": "code",
        "colab": {}
      },
      "source": [
        "x_train_scaled = preprocessing.scale(x_train)\n",
        "scaler = preprocessing.StandardScaler().fit(x_train)\n",
        "\n",
        "x_test_scaled = scaler.transform(x_test)"
      ],
      "execution_count": 0,
      "outputs": []
    },
    {
      "cell_type": "markdown",
      "metadata": {
        "id": "AaSqA_jXK09A",
        "colab_type": "text"
      },
      "source": [
        "**Creating the model**\n",
        "\n",
        "- Input layer - 13 features\n",
        "- Hidden layer 1 - 64 neurons, activation: relu, kernel initializer: normal\n",
        "- Hidden layer 2 - 64 neurons, activation: relu\n",
        "- Output layer - 1 neuron"
      ]
    },
    {
      "cell_type": "code",
      "metadata": {
        "id": "SEwEgWKxLPqk",
        "colab_type": "code",
        "colab": {}
      },
      "source": [
        "reg_model = Sequential()"
      ],
      "execution_count": 0,
      "outputs": []
    },
    {
      "cell_type": "code",
      "metadata": {
        "id": "vWzK6qnKLVj-",
        "colab_type": "code",
        "colab": {}
      },
      "source": [
        "reg_model.add(Dense(64, input_shape = (13,), activation = 'relu', kernel_initializer = 'normal'))\n",
        "reg_model.add(Dense(64, activation = 'relu'))\n",
        "reg_model.add(Dense(1))"
      ],
      "execution_count": 0,
      "outputs": []
    },
    {
      "cell_type": "markdown",
      "metadata": {
        "id": "OBlFaywSLuAL",
        "colab_type": "text"
      },
      "source": [
        "**Building the model**\n",
        "\n",
        "- Loss function - mse\n",
        "- Optimization funtion - RMSprop"
      ]
    },
    {
      "cell_type": "code",
      "metadata": {
        "id": "mGl5KV2sLq4d",
        "colab_type": "code",
        "colab": {}
      },
      "source": [
        "reg_model.compile(\n",
        "    loss = 'mse',\n",
        "    optimizer = RMSprop(),\n",
        "    metrics = ['mean_absolute_error']\n",
        ")"
      ],
      "execution_count": 0,
      "outputs": []
    },
    {
      "cell_type": "markdown",
      "metadata": {
        "id": "cZIubKRlL_BL",
        "colab_type": "text"
      },
      "source": [
        "**Training the model**\n",
        "- Callback function EarlyStopping is used to monitor the loss value during each epoch and compare to loss in previous epoch to find the improvement\n",
        "- If no improvement then the process stops"
      ]
    },
    {
      "cell_type": "code",
      "metadata": {
        "id": "0q7oYlabMLtQ",
        "colab_type": "code",
        "colab": {}
      },
      "source": [
        "batch_size = 128\n",
        "epochs = 500\n",
        "verbose = 1\n",
        "validation_split = 0.2"
      ],
      "execution_count": 0,
      "outputs": []
    },
    {
      "cell_type": "code",
      "metadata": {
        "id": "CBroU38mMBvx",
        "colab_type": "code",
        "colab": {
          "base_uri": "https://localhost:8080/",
          "height": 1000
        },
        "outputId": "d736a871-167c-4bef-8762-fe17f185ffe8"
      },
      "source": [
        "trained = reg_model.fit(\n",
        "    x_train_scaled, y_train,\n",
        "    batch_size = batch_size,\n",
        "    epochs = epochs,\n",
        "    verbose = verbose,\n",
        "    validation_split = validation_split,\n",
        "    callbacks = [EarlyStopping(monitor = 'val_loss', patience = 20)]\n",
        ")"
      ],
      "execution_count": 26,
      "outputs": [
        {
          "output_type": "stream",
          "text": [
            "Epoch 1/500\n",
            "3/3 [==============================] - 0s 29ms/step - loss: 566.8416 - mean_absolute_error: 22.0934 - val_loss: 632.7701 - val_mean_absolute_error: 23.4137\n",
            "Epoch 2/500\n",
            "3/3 [==============================] - 0s 10ms/step - loss: 559.8027 - mean_absolute_error: 21.7688 - val_loss: 621.3544 - val_mean_absolute_error: 23.1635\n",
            "Epoch 3/500\n",
            "3/3 [==============================] - 0s 12ms/step - loss: 546.7382 - mean_absolute_error: 21.5103 - val_loss: 609.8782 - val_mean_absolute_error: 22.9155\n",
            "Epoch 4/500\n",
            "3/3 [==============================] - 0s 11ms/step - loss: 532.2000 - mean_absolute_error: 21.2496 - val_loss: 597.8098 - val_mean_absolute_error: 22.6504\n",
            "Epoch 5/500\n",
            "3/3 [==============================] - 0s 11ms/step - loss: 520.3531 - mean_absolute_error: 20.9656 - val_loss: 584.3562 - val_mean_absolute_error: 22.3539\n",
            "Epoch 6/500\n",
            "3/3 [==============================] - 0s 10ms/step - loss: 489.3539 - mean_absolute_error: 20.6501 - val_loss: 570.2763 - val_mean_absolute_error: 22.0325\n",
            "Epoch 7/500\n",
            "3/3 [==============================] - 0s 11ms/step - loss: 484.3717 - mean_absolute_error: 20.3058 - val_loss: 554.5058 - val_mean_absolute_error: 21.6716\n",
            "Epoch 8/500\n",
            "3/3 [==============================] - 0s 10ms/step - loss: 473.3432 - mean_absolute_error: 19.9269 - val_loss: 536.7030 - val_mean_absolute_error: 21.2550\n",
            "Epoch 9/500\n",
            "3/3 [==============================] - 0s 12ms/step - loss: 454.6528 - mean_absolute_error: 19.4924 - val_loss: 517.9127 - val_mean_absolute_error: 20.8040\n",
            "Epoch 10/500\n",
            "3/3 [==============================] - 0s 11ms/step - loss: 444.8484 - mean_absolute_error: 19.0224 - val_loss: 497.2404 - val_mean_absolute_error: 20.2968\n",
            "Epoch 11/500\n",
            "3/3 [==============================] - 0s 12ms/step - loss: 431.9811 - mean_absolute_error: 18.5029 - val_loss: 475.5210 - val_mean_absolute_error: 19.7653\n",
            "Epoch 12/500\n",
            "3/3 [==============================] - 0s 12ms/step - loss: 390.4806 - mean_absolute_error: 17.9332 - val_loss: 453.7448 - val_mean_absolute_error: 19.2146\n",
            "Epoch 13/500\n",
            "3/3 [==============================] - 0s 11ms/step - loss: 377.6169 - mean_absolute_error: 17.3488 - val_loss: 430.7313 - val_mean_absolute_error: 18.6127\n",
            "Epoch 14/500\n",
            "3/3 [==============================] - 0s 12ms/step - loss: 351.8022 - mean_absolute_error: 16.7089 - val_loss: 407.6553 - val_mean_absolute_error: 17.9835\n",
            "Epoch 15/500\n",
            "3/3 [==============================] - 0s 12ms/step - loss: 323.8833 - mean_absolute_error: 16.0795 - val_loss: 384.8665 - val_mean_absolute_error: 17.3270\n",
            "Epoch 16/500\n",
            "3/3 [==============================] - 0s 12ms/step - loss: 312.7216 - mean_absolute_error: 15.4439 - val_loss: 361.8401 - val_mean_absolute_error: 16.6468\n",
            "Epoch 17/500\n",
            "3/3 [==============================] - 0s 12ms/step - loss: 292.6874 - mean_absolute_error: 14.7877 - val_loss: 337.9608 - val_mean_absolute_error: 15.9147\n",
            "Epoch 18/500\n",
            "3/3 [==============================] - 0s 12ms/step - loss: 268.6267 - mean_absolute_error: 14.0927 - val_loss: 315.3626 - val_mean_absolute_error: 15.1926\n",
            "Epoch 19/500\n",
            "3/3 [==============================] - 0s 10ms/step - loss: 242.4045 - mean_absolute_error: 13.4119 - val_loss: 293.2136 - val_mean_absolute_error: 14.4808\n",
            "Epoch 20/500\n",
            "3/3 [==============================] - 0s 10ms/step - loss: 225.2243 - mean_absolute_error: 12.7096 - val_loss: 272.2916 - val_mean_absolute_error: 13.7775\n",
            "Epoch 21/500\n",
            "3/3 [==============================] - 0s 10ms/step - loss: 199.4296 - mean_absolute_error: 12.0307 - val_loss: 252.3917 - val_mean_absolute_error: 13.0555\n",
            "Epoch 22/500\n",
            "3/3 [==============================] - 0s 11ms/step - loss: 190.6505 - mean_absolute_error: 11.3869 - val_loss: 232.7310 - val_mean_absolute_error: 12.3293\n",
            "Epoch 23/500\n",
            "3/3 [==============================] - 0s 12ms/step - loss: 171.9503 - mean_absolute_error: 10.7446 - val_loss: 215.1809 - val_mean_absolute_error: 11.6670\n",
            "Epoch 24/500\n",
            "3/3 [==============================] - 0s 10ms/step - loss: 157.9566 - mean_absolute_error: 10.1928 - val_loss: 198.9414 - val_mean_absolute_error: 11.0700\n",
            "Epoch 25/500\n",
            "3/3 [==============================] - 0s 11ms/step - loss: 147.7288 - mean_absolute_error: 9.6838 - val_loss: 183.4785 - val_mean_absolute_error: 10.5067\n",
            "Epoch 26/500\n",
            "3/3 [==============================] - 0s 10ms/step - loss: 126.0534 - mean_absolute_error: 9.2065 - val_loss: 169.8015 - val_mean_absolute_error: 10.0120\n",
            "Epoch 27/500\n",
            "3/3 [==============================] - 0s 10ms/step - loss: 121.0837 - mean_absolute_error: 8.7940 - val_loss: 156.9494 - val_mean_absolute_error: 9.5557\n",
            "Epoch 28/500\n",
            "3/3 [==============================] - 0s 13ms/step - loss: 107.2057 - mean_absolute_error: 8.4154 - val_loss: 145.6019 - val_mean_absolute_error: 9.1934\n",
            "Epoch 29/500\n",
            "3/3 [==============================] - 0s 10ms/step - loss: 104.7996 - mean_absolute_error: 8.0636 - val_loss: 134.2520 - val_mean_absolute_error: 8.8292\n",
            "Epoch 30/500\n",
            "3/3 [==============================] - 0s 11ms/step - loss: 97.7785 - mean_absolute_error: 7.6962 - val_loss: 123.8409 - val_mean_absolute_error: 8.4883\n",
            "Epoch 31/500\n",
            "3/3 [==============================] - 0s 11ms/step - loss: 86.8198 - mean_absolute_error: 7.3370 - val_loss: 114.3933 - val_mean_absolute_error: 8.1506\n",
            "Epoch 32/500\n",
            "3/3 [==============================] - 0s 11ms/step - loss: 80.6318 - mean_absolute_error: 7.0181 - val_loss: 105.7158 - val_mean_absolute_error: 7.8129\n",
            "Epoch 33/500\n",
            "3/3 [==============================] - 0s 11ms/step - loss: 73.0257 - mean_absolute_error: 6.7133 - val_loss: 97.9319 - val_mean_absolute_error: 7.4931\n",
            "Epoch 34/500\n",
            "3/3 [==============================] - 0s 12ms/step - loss: 65.9688 - mean_absolute_error: 6.3964 - val_loss: 91.4305 - val_mean_absolute_error: 7.2352\n",
            "Epoch 35/500\n",
            "3/3 [==============================] - 0s 11ms/step - loss: 65.1180 - mean_absolute_error: 6.1532 - val_loss: 85.0349 - val_mean_absolute_error: 6.9747\n",
            "Epoch 36/500\n",
            "3/3 [==============================] - 0s 10ms/step - loss: 57.5332 - mean_absolute_error: 5.8945 - val_loss: 79.2347 - val_mean_absolute_error: 6.7288\n",
            "Epoch 37/500\n",
            "3/3 [==============================] - 0s 10ms/step - loss: 53.0695 - mean_absolute_error: 5.6297 - val_loss: 74.2638 - val_mean_absolute_error: 6.4713\n",
            "Epoch 38/500\n",
            "3/3 [==============================] - 0s 12ms/step - loss: 49.5331 - mean_absolute_error: 5.4036 - val_loss: 69.6627 - val_mean_absolute_error: 6.2471\n",
            "Epoch 39/500\n",
            "3/3 [==============================] - 0s 12ms/step - loss: 49.6581 - mean_absolute_error: 5.1544 - val_loss: 64.8478 - val_mean_absolute_error: 6.0167\n",
            "Epoch 40/500\n",
            "3/3 [==============================] - 0s 11ms/step - loss: 44.0956 - mean_absolute_error: 4.9207 - val_loss: 60.9764 - val_mean_absolute_error: 5.8111\n",
            "Epoch 41/500\n",
            "3/3 [==============================] - 0s 11ms/step - loss: 42.0347 - mean_absolute_error: 4.7395 - val_loss: 56.9241 - val_mean_absolute_error: 5.6252\n",
            "Epoch 42/500\n",
            "3/3 [==============================] - 0s 12ms/step - loss: 42.6884 - mean_absolute_error: 4.5297 - val_loss: 53.4770 - val_mean_absolute_error: 5.4197\n",
            "Epoch 43/500\n",
            "3/3 [==============================] - 0s 16ms/step - loss: 38.2064 - mean_absolute_error: 4.3832 - val_loss: 49.9022 - val_mean_absolute_error: 5.2321\n",
            "Epoch 44/500\n",
            "3/3 [==============================] - 0s 10ms/step - loss: 32.7529 - mean_absolute_error: 4.1727 - val_loss: 46.9366 - val_mean_absolute_error: 5.0779\n",
            "Epoch 45/500\n",
            "3/3 [==============================] - 0s 10ms/step - loss: 33.8034 - mean_absolute_error: 4.0512 - val_loss: 44.2645 - val_mean_absolute_error: 4.9304\n",
            "Epoch 46/500\n",
            "3/3 [==============================] - 0s 10ms/step - loss: 32.6103 - mean_absolute_error: 3.9237 - val_loss: 41.8686 - val_mean_absolute_error: 4.7959\n",
            "Epoch 47/500\n",
            "3/3 [==============================] - 0s 12ms/step - loss: 29.1439 - mean_absolute_error: 3.8261 - val_loss: 40.0729 - val_mean_absolute_error: 4.6452\n",
            "Epoch 48/500\n",
            "3/3 [==============================] - 0s 12ms/step - loss: 30.9322 - mean_absolute_error: 3.7402 - val_loss: 37.5998 - val_mean_absolute_error: 4.5744\n",
            "Epoch 49/500\n",
            "3/3 [==============================] - 0s 10ms/step - loss: 29.2434 - mean_absolute_error: 3.6520 - val_loss: 35.6653 - val_mean_absolute_error: 4.4530\n",
            "Epoch 50/500\n",
            "3/3 [==============================] - 0s 11ms/step - loss: 26.7768 - mean_absolute_error: 3.5773 - val_loss: 34.3051 - val_mean_absolute_error: 4.3345\n",
            "Epoch 51/500\n",
            "3/3 [==============================] - 0s 10ms/step - loss: 25.1649 - mean_absolute_error: 3.5426 - val_loss: 32.8676 - val_mean_absolute_error: 4.2412\n",
            "Epoch 52/500\n",
            "3/3 [==============================] - 0s 10ms/step - loss: 24.4117 - mean_absolute_error: 3.4375 - val_loss: 31.6852 - val_mean_absolute_error: 4.1852\n",
            "Epoch 53/500\n",
            "3/3 [==============================] - 0s 12ms/step - loss: 27.7294 - mean_absolute_error: 3.4129 - val_loss: 30.6786 - val_mean_absolute_error: 4.1892\n",
            "Epoch 54/500\n",
            "3/3 [==============================] - 0s 12ms/step - loss: 25.1326 - mean_absolute_error: 3.4280 - val_loss: 29.8100 - val_mean_absolute_error: 4.1092\n",
            "Epoch 55/500\n",
            "3/3 [==============================] - 0s 12ms/step - loss: 25.0680 - mean_absolute_error: 3.3753 - val_loss: 28.6928 - val_mean_absolute_error: 4.0304\n",
            "Epoch 56/500\n",
            "3/3 [==============================] - 0s 12ms/step - loss: 25.6632 - mean_absolute_error: 3.3114 - val_loss: 28.3049 - val_mean_absolute_error: 4.0266\n",
            "Epoch 57/500\n",
            "3/3 [==============================] - 0s 14ms/step - loss: 21.5461 - mean_absolute_error: 3.3053 - val_loss: 27.4512 - val_mean_absolute_error: 3.9091\n",
            "Epoch 58/500\n",
            "3/3 [==============================] - 0s 12ms/step - loss: 22.0038 - mean_absolute_error: 3.2651 - val_loss: 26.7725 - val_mean_absolute_error: 3.8556\n",
            "Epoch 59/500\n",
            "3/3 [==============================] - 0s 11ms/step - loss: 20.6663 - mean_absolute_error: 3.2086 - val_loss: 26.1601 - val_mean_absolute_error: 3.8081\n",
            "Epoch 60/500\n",
            "3/3 [==============================] - 0s 12ms/step - loss: 20.7830 - mean_absolute_error: 3.1888 - val_loss: 25.6850 - val_mean_absolute_error: 3.7444\n",
            "Epoch 61/500\n",
            "3/3 [==============================] - 0s 12ms/step - loss: 22.5590 - mean_absolute_error: 3.1421 - val_loss: 25.0126 - val_mean_absolute_error: 3.7680\n",
            "Epoch 62/500\n",
            "3/3 [==============================] - 0s 12ms/step - loss: 21.5861 - mean_absolute_error: 3.1245 - val_loss: 24.1169 - val_mean_absolute_error: 3.6836\n",
            "Epoch 63/500\n",
            "3/3 [==============================] - 0s 12ms/step - loss: 19.0405 - mean_absolute_error: 3.1441 - val_loss: 23.6206 - val_mean_absolute_error: 3.6069\n",
            "Epoch 64/500\n",
            "3/3 [==============================] - 0s 13ms/step - loss: 18.5532 - mean_absolute_error: 3.0580 - val_loss: 23.1508 - val_mean_absolute_error: 3.5875\n",
            "Epoch 65/500\n",
            "3/3 [==============================] - 0s 12ms/step - loss: 18.9558 - mean_absolute_error: 3.0394 - val_loss: 22.7121 - val_mean_absolute_error: 3.5549\n",
            "Epoch 66/500\n",
            "3/3 [==============================] - 0s 11ms/step - loss: 21.5867 - mean_absolute_error: 3.0413 - val_loss: 22.5113 - val_mean_absolute_error: 3.5801\n",
            "Epoch 67/500\n",
            "3/3 [==============================] - 0s 16ms/step - loss: 17.9857 - mean_absolute_error: 3.0074 - val_loss: 22.1063 - val_mean_absolute_error: 3.5442\n",
            "Epoch 68/500\n",
            "3/3 [==============================] - 0s 12ms/step - loss: 18.0976 - mean_absolute_error: 2.9887 - val_loss: 21.2286 - val_mean_absolute_error: 3.4238\n",
            "Epoch 69/500\n",
            "3/3 [==============================] - 0s 11ms/step - loss: 19.5598 - mean_absolute_error: 2.9500 - val_loss: 21.3143 - val_mean_absolute_error: 3.4688\n",
            "Epoch 70/500\n",
            "3/3 [==============================] - 0s 10ms/step - loss: 17.4948 - mean_absolute_error: 2.9279 - val_loss: 20.8105 - val_mean_absolute_error: 3.4037\n",
            "Epoch 71/500\n",
            "3/3 [==============================] - 0s 11ms/step - loss: 18.4112 - mean_absolute_error: 2.8963 - val_loss: 20.3573 - val_mean_absolute_error: 3.3517\n",
            "Epoch 72/500\n",
            "3/3 [==============================] - 0s 12ms/step - loss: 16.4508 - mean_absolute_error: 2.8764 - val_loss: 19.9693 - val_mean_absolute_error: 3.3172\n",
            "Epoch 73/500\n",
            "3/3 [==============================] - 0s 10ms/step - loss: 17.9250 - mean_absolute_error: 2.8353 - val_loss: 19.6131 - val_mean_absolute_error: 3.2579\n",
            "Epoch 74/500\n",
            "3/3 [==============================] - 0s 10ms/step - loss: 15.9339 - mean_absolute_error: 2.8213 - val_loss: 19.1319 - val_mean_absolute_error: 3.2500\n",
            "Epoch 75/500\n",
            "3/3 [==============================] - 0s 10ms/step - loss: 16.8103 - mean_absolute_error: 2.7900 - val_loss: 19.1446 - val_mean_absolute_error: 3.2827\n",
            "Epoch 76/500\n",
            "3/3 [==============================] - 0s 11ms/step - loss: 16.5294 - mean_absolute_error: 2.7766 - val_loss: 18.6603 - val_mean_absolute_error: 3.1807\n",
            "Epoch 77/500\n",
            "3/3 [==============================] - 0s 12ms/step - loss: 14.8434 - mean_absolute_error: 2.7342 - val_loss: 18.4035 - val_mean_absolute_error: 3.1831\n",
            "Epoch 78/500\n",
            "3/3 [==============================] - 0s 10ms/step - loss: 15.2537 - mean_absolute_error: 2.7378 - val_loss: 18.3411 - val_mean_absolute_error: 3.2161\n",
            "Epoch 79/500\n",
            "3/3 [==============================] - 0s 12ms/step - loss: 15.4030 - mean_absolute_error: 2.7000 - val_loss: 18.3348 - val_mean_absolute_error: 3.2071\n",
            "Epoch 80/500\n",
            "3/3 [==============================] - 0s 12ms/step - loss: 15.8276 - mean_absolute_error: 2.7026 - val_loss: 17.7316 - val_mean_absolute_error: 3.1304\n",
            "Epoch 81/500\n",
            "3/3 [==============================] - 0s 11ms/step - loss: 14.3254 - mean_absolute_error: 2.6735 - val_loss: 17.1797 - val_mean_absolute_error: 3.0710\n",
            "Epoch 82/500\n",
            "3/3 [==============================] - 0s 12ms/step - loss: 14.1358 - mean_absolute_error: 2.6370 - val_loss: 17.0165 - val_mean_absolute_error: 3.0262\n",
            "Epoch 83/500\n",
            "3/3 [==============================] - 0s 13ms/step - loss: 14.6577 - mean_absolute_error: 2.6191 - val_loss: 17.0854 - val_mean_absolute_error: 3.0688\n",
            "Epoch 84/500\n",
            "3/3 [==============================] - 0s 12ms/step - loss: 13.2508 - mean_absolute_error: 2.6074 - val_loss: 16.5724 - val_mean_absolute_error: 3.0359\n",
            "Epoch 85/500\n",
            "3/3 [==============================] - 0s 11ms/step - loss: 12.8837 - mean_absolute_error: 2.5388 - val_loss: 16.2655 - val_mean_absolute_error: 2.9770\n",
            "Epoch 86/500\n",
            "3/3 [==============================] - 0s 11ms/step - loss: 12.7493 - mean_absolute_error: 2.5412 - val_loss: 16.2473 - val_mean_absolute_error: 3.0220\n",
            "Epoch 87/500\n",
            "3/3 [==============================] - 0s 14ms/step - loss: 13.4875 - mean_absolute_error: 2.5187 - val_loss: 15.9117 - val_mean_absolute_error: 2.9259\n",
            "Epoch 88/500\n",
            "3/3 [==============================] - 0s 12ms/step - loss: 12.7645 - mean_absolute_error: 2.5054 - val_loss: 15.6514 - val_mean_absolute_error: 2.9217\n",
            "Epoch 89/500\n",
            "3/3 [==============================] - 0s 11ms/step - loss: 14.8862 - mean_absolute_error: 2.4628 - val_loss: 15.8196 - val_mean_absolute_error: 2.8888\n",
            "Epoch 90/500\n",
            "3/3 [==============================] - 0s 11ms/step - loss: 12.7886 - mean_absolute_error: 2.4942 - val_loss: 15.3024 - val_mean_absolute_error: 2.9161\n",
            "Epoch 91/500\n",
            "3/3 [==============================] - 0s 11ms/step - loss: 12.8293 - mean_absolute_error: 2.3942 - val_loss: 15.3037 - val_mean_absolute_error: 2.8754\n",
            "Epoch 92/500\n",
            "3/3 [==============================] - 0s 13ms/step - loss: 11.0993 - mean_absolute_error: 2.4066 - val_loss: 15.0147 - val_mean_absolute_error: 2.8898\n",
            "Epoch 93/500\n",
            "3/3 [==============================] - 0s 12ms/step - loss: 11.8228 - mean_absolute_error: 2.3850 - val_loss: 15.2614 - val_mean_absolute_error: 2.9677\n",
            "Epoch 94/500\n",
            "3/3 [==============================] - 0s 11ms/step - loss: 13.1384 - mean_absolute_error: 2.3579 - val_loss: 14.8651 - val_mean_absolute_error: 2.8285\n",
            "Epoch 95/500\n",
            "3/3 [==============================] - 0s 11ms/step - loss: 12.0845 - mean_absolute_error: 2.3489 - val_loss: 14.7799 - val_mean_absolute_error: 2.8462\n",
            "Epoch 96/500\n",
            "3/3 [==============================] - 0s 12ms/step - loss: 10.8459 - mean_absolute_error: 2.3406 - val_loss: 14.4391 - val_mean_absolute_error: 2.8223\n",
            "Epoch 97/500\n",
            "3/3 [==============================] - 0s 12ms/step - loss: 12.1682 - mean_absolute_error: 2.3131 - val_loss: 14.3508 - val_mean_absolute_error: 2.7492\n",
            "Epoch 98/500\n",
            "3/3 [==============================] - 0s 11ms/step - loss: 11.0400 - mean_absolute_error: 2.3695 - val_loss: 14.1155 - val_mean_absolute_error: 2.8213\n",
            "Epoch 99/500\n",
            "3/3 [==============================] - 0s 10ms/step - loss: 11.5754 - mean_absolute_error: 2.2961 - val_loss: 14.0475 - val_mean_absolute_error: 2.7902\n",
            "Epoch 100/500\n",
            "3/3 [==============================] - 0s 11ms/step - loss: 10.3108 - mean_absolute_error: 2.2938 - val_loss: 13.7492 - val_mean_absolute_error: 2.7838\n",
            "Epoch 101/500\n",
            "3/3 [==============================] - 0s 10ms/step - loss: 11.2997 - mean_absolute_error: 2.2354 - val_loss: 13.9709 - val_mean_absolute_error: 2.6975\n",
            "Epoch 102/500\n",
            "3/3 [==============================] - 0s 10ms/step - loss: 9.8069 - mean_absolute_error: 2.2691 - val_loss: 13.7872 - val_mean_absolute_error: 2.7492\n",
            "Epoch 103/500\n",
            "3/3 [==============================] - 0s 11ms/step - loss: 10.3458 - mean_absolute_error: 2.2106 - val_loss: 13.9646 - val_mean_absolute_error: 2.7778\n",
            "Epoch 104/500\n",
            "3/3 [==============================] - 0s 11ms/step - loss: 10.1867 - mean_absolute_error: 2.2164 - val_loss: 13.5281 - val_mean_absolute_error: 2.6886\n",
            "Epoch 105/500\n",
            "3/3 [==============================] - 0s 11ms/step - loss: 10.4196 - mean_absolute_error: 2.1959 - val_loss: 13.7581 - val_mean_absolute_error: 2.6972\n",
            "Epoch 106/500\n",
            "3/3 [==============================] - 0s 13ms/step - loss: 10.5489 - mean_absolute_error: 2.2341 - val_loss: 13.3193 - val_mean_absolute_error: 2.7120\n",
            "Epoch 107/500\n",
            "3/3 [==============================] - 0s 11ms/step - loss: 9.8196 - mean_absolute_error: 2.1902 - val_loss: 13.1577 - val_mean_absolute_error: 2.6970\n",
            "Epoch 108/500\n",
            "3/3 [==============================] - 0s 11ms/step - loss: 10.8558 - mean_absolute_error: 2.1596 - val_loss: 13.5982 - val_mean_absolute_error: 2.6439\n",
            "Epoch 109/500\n",
            "3/3 [==============================] - 0s 11ms/step - loss: 9.6737 - mean_absolute_error: 2.1614 - val_loss: 13.5124 - val_mean_absolute_error: 2.6303\n",
            "Epoch 110/500\n",
            "3/3 [==============================] - 0s 10ms/step - loss: 9.2616 - mean_absolute_error: 2.1584 - val_loss: 13.5960 - val_mean_absolute_error: 2.6749\n",
            "Epoch 111/500\n",
            "3/3 [==============================] - 0s 10ms/step - loss: 9.8978 - mean_absolute_error: 2.1634 - val_loss: 13.2042 - val_mean_absolute_error: 2.6541\n",
            "Epoch 112/500\n",
            "3/3 [==============================] - 0s 10ms/step - loss: 9.5912 - mean_absolute_error: 2.1411 - val_loss: 13.2690 - val_mean_absolute_error: 2.6796\n",
            "Epoch 113/500\n",
            "3/3 [==============================] - 0s 11ms/step - loss: 9.9967 - mean_absolute_error: 2.0941 - val_loss: 13.4465 - val_mean_absolute_error: 2.5449\n",
            "Epoch 114/500\n",
            "3/3 [==============================] - 0s 11ms/step - loss: 8.9820 - mean_absolute_error: 2.1288 - val_loss: 13.0640 - val_mean_absolute_error: 2.5869\n",
            "Epoch 115/500\n",
            "3/3 [==============================] - 0s 10ms/step - loss: 8.8411 - mean_absolute_error: 2.1154 - val_loss: 12.9305 - val_mean_absolute_error: 2.5967\n",
            "Epoch 116/500\n",
            "3/3 [==============================] - 0s 13ms/step - loss: 9.3145 - mean_absolute_error: 2.1053 - val_loss: 12.7570 - val_mean_absolute_error: 2.6368\n",
            "Epoch 117/500\n",
            "3/3 [==============================] - 0s 12ms/step - loss: 8.9305 - mean_absolute_error: 2.0884 - val_loss: 12.8555 - val_mean_absolute_error: 2.6211\n",
            "Epoch 118/500\n",
            "3/3 [==============================] - 0s 11ms/step - loss: 9.1078 - mean_absolute_error: 2.0809 - val_loss: 12.5383 - val_mean_absolute_error: 2.5417\n",
            "Epoch 119/500\n",
            "3/3 [==============================] - 0s 10ms/step - loss: 8.6925 - mean_absolute_error: 2.0627 - val_loss: 12.7724 - val_mean_absolute_error: 2.5354\n",
            "Epoch 120/500\n",
            "3/3 [==============================] - 0s 13ms/step - loss: 8.7929 - mean_absolute_error: 2.0668 - val_loss: 12.5382 - val_mean_absolute_error: 2.5316\n",
            "Epoch 121/500\n",
            "3/3 [==============================] - 0s 11ms/step - loss: 8.5268 - mean_absolute_error: 2.0468 - val_loss: 12.5874 - val_mean_absolute_error: 2.5038\n",
            "Epoch 122/500\n",
            "3/3 [==============================] - 0s 12ms/step - loss: 8.8489 - mean_absolute_error: 2.0776 - val_loss: 12.8784 - val_mean_absolute_error: 2.5725\n",
            "Epoch 123/500\n",
            "3/3 [==============================] - 0s 10ms/step - loss: 8.9680 - mean_absolute_error: 2.0955 - val_loss: 12.4942 - val_mean_absolute_error: 2.5022\n",
            "Epoch 124/500\n",
            "3/3 [==============================] - 0s 10ms/step - loss: 8.1461 - mean_absolute_error: 2.0277 - val_loss: 12.8926 - val_mean_absolute_error: 2.4874\n",
            "Epoch 125/500\n",
            "3/3 [==============================] - 0s 12ms/step - loss: 8.9146 - mean_absolute_error: 2.0675 - val_loss: 12.6321 - val_mean_absolute_error: 2.5353\n",
            "Epoch 126/500\n",
            "3/3 [==============================] - 0s 10ms/step - loss: 8.1889 - mean_absolute_error: 2.0148 - val_loss: 12.7083 - val_mean_absolute_error: 2.4812\n",
            "Epoch 127/500\n",
            "3/3 [==============================] - 0s 11ms/step - loss: 8.6456 - mean_absolute_error: 2.0348 - val_loss: 12.6134 - val_mean_absolute_error: 2.5083\n",
            "Epoch 128/500\n",
            "3/3 [==============================] - 0s 11ms/step - loss: 8.4871 - mean_absolute_error: 2.0024 - val_loss: 13.0625 - val_mean_absolute_error: 2.5292\n",
            "Epoch 129/500\n",
            "3/3 [==============================] - 0s 13ms/step - loss: 8.7591 - mean_absolute_error: 2.0128 - val_loss: 12.8773 - val_mean_absolute_error: 2.4508\n",
            "Epoch 130/500\n",
            "3/3 [==============================] - 0s 12ms/step - loss: 9.3238 - mean_absolute_error: 2.0209 - val_loss: 13.4314 - val_mean_absolute_error: 2.5757\n",
            "Epoch 131/500\n",
            "3/3 [==============================] - 0s 13ms/step - loss: 8.6670 - mean_absolute_error: 2.0425 - val_loss: 13.4079 - val_mean_absolute_error: 2.4305\n",
            "Epoch 132/500\n",
            "3/3 [==============================] - 0s 11ms/step - loss: 10.0020 - mean_absolute_error: 2.0750 - val_loss: 13.1445 - val_mean_absolute_error: 2.5466\n",
            "Epoch 133/500\n",
            "3/3 [==============================] - 0s 11ms/step - loss: 9.5193 - mean_absolute_error: 2.0172 - val_loss: 13.0722 - val_mean_absolute_error: 2.4813\n",
            "Epoch 134/500\n",
            "3/3 [==============================] - 0s 10ms/step - loss: 8.5971 - mean_absolute_error: 2.0326 - val_loss: 12.5340 - val_mean_absolute_error: 2.4806\n",
            "Epoch 135/500\n",
            "3/3 [==============================] - 0s 12ms/step - loss: 8.2149 - mean_absolute_error: 2.0358 - val_loss: 12.4848 - val_mean_absolute_error: 2.5314\n",
            "Epoch 136/500\n",
            "3/3 [==============================] - 0s 10ms/step - loss: 9.5133 - mean_absolute_error: 2.0109 - val_loss: 12.8084 - val_mean_absolute_error: 2.4167\n",
            "Epoch 137/500\n",
            "3/3 [==============================] - 0s 10ms/step - loss: 9.2255 - mean_absolute_error: 2.0018 - val_loss: 13.0693 - val_mean_absolute_error: 2.4325\n",
            "Epoch 138/500\n",
            "3/3 [==============================] - 0s 12ms/step - loss: 8.1849 - mean_absolute_error: 2.0328 - val_loss: 12.4287 - val_mean_absolute_error: 2.4606\n",
            "Epoch 139/500\n",
            "3/3 [==============================] - 0s 11ms/step - loss: 8.1500 - mean_absolute_error: 1.9891 - val_loss: 12.3849 - val_mean_absolute_error: 2.4387\n",
            "Epoch 140/500\n",
            "3/3 [==============================] - 0s 12ms/step - loss: 9.3253 - mean_absolute_error: 1.9658 - val_loss: 12.5611 - val_mean_absolute_error: 2.4275\n",
            "Epoch 141/500\n",
            "3/3 [==============================] - 0s 11ms/step - loss: 8.1955 - mean_absolute_error: 1.9829 - val_loss: 12.8040 - val_mean_absolute_error: 2.4279\n",
            "Epoch 142/500\n",
            "3/3 [==============================] - 0s 10ms/step - loss: 7.9348 - mean_absolute_error: 2.0031 - val_loss: 12.4088 - val_mean_absolute_error: 2.5124\n",
            "Epoch 143/500\n",
            "3/3 [==============================] - 0s 12ms/step - loss: 8.2707 - mean_absolute_error: 1.9651 - val_loss: 12.2040 - val_mean_absolute_error: 2.4048\n",
            "Epoch 144/500\n",
            "3/3 [==============================] - 0s 10ms/step - loss: 8.1534 - mean_absolute_error: 1.9534 - val_loss: 12.7071 - val_mean_absolute_error: 2.4333\n",
            "Epoch 145/500\n",
            "3/3 [==============================] - 0s 13ms/step - loss: 8.6713 - mean_absolute_error: 1.9586 - val_loss: 12.9654 - val_mean_absolute_error: 2.4187\n",
            "Epoch 146/500\n",
            "3/3 [==============================] - 0s 55ms/step - loss: 7.7739 - mean_absolute_error: 1.9909 - val_loss: 12.3998 - val_mean_absolute_error: 2.5412\n",
            "Epoch 147/500\n",
            "3/3 [==============================] - 0s 13ms/step - loss: 8.7059 - mean_absolute_error: 1.9515 - val_loss: 12.9181 - val_mean_absolute_error: 2.3998\n",
            "Epoch 148/500\n",
            "3/3 [==============================] - 0s 11ms/step - loss: 8.1583 - mean_absolute_error: 2.0363 - val_loss: 12.8199 - val_mean_absolute_error: 2.4249\n",
            "Epoch 149/500\n",
            "3/3 [==============================] - 0s 12ms/step - loss: 7.8958 - mean_absolute_error: 1.9877 - val_loss: 12.5859 - val_mean_absolute_error: 2.4728\n",
            "Epoch 150/500\n",
            "3/3 [==============================] - 0s 11ms/step - loss: 8.0657 - mean_absolute_error: 1.9378 - val_loss: 12.7478 - val_mean_absolute_error: 2.4601\n",
            "Epoch 151/500\n",
            "3/3 [==============================] - 0s 11ms/step - loss: 7.9069 - mean_absolute_error: 1.9495 - val_loss: 12.5900 - val_mean_absolute_error: 2.4830\n",
            "Epoch 152/500\n",
            "3/3 [==============================] - 0s 11ms/step - loss: 8.1378 - mean_absolute_error: 1.9481 - val_loss: 12.6633 - val_mean_absolute_error: 2.4859\n",
            "Epoch 153/500\n",
            "3/3 [==============================] - 0s 14ms/step - loss: 7.9063 - mean_absolute_error: 1.9404 - val_loss: 13.1735 - val_mean_absolute_error: 2.4951\n",
            "Epoch 154/500\n",
            "3/3 [==============================] - 0s 12ms/step - loss: 7.8205 - mean_absolute_error: 1.9552 - val_loss: 12.7860 - val_mean_absolute_error: 2.4843\n",
            "Epoch 155/500\n",
            "3/3 [==============================] - 0s 13ms/step - loss: 8.0224 - mean_absolute_error: 1.9260 - val_loss: 13.3826 - val_mean_absolute_error: 2.4234\n",
            "Epoch 156/500\n",
            "3/3 [==============================] - 0s 11ms/step - loss: 7.8816 - mean_absolute_error: 1.9499 - val_loss: 13.0445 - val_mean_absolute_error: 2.5814\n",
            "Epoch 157/500\n",
            "3/3 [==============================] - 0s 12ms/step - loss: 8.2255 - mean_absolute_error: 1.9979 - val_loss: 12.3958 - val_mean_absolute_error: 2.4399\n",
            "Epoch 158/500\n",
            "3/3 [==============================] - 0s 11ms/step - loss: 7.5003 - mean_absolute_error: 1.8945 - val_loss: 12.6079 - val_mean_absolute_error: 2.4116\n",
            "Epoch 159/500\n",
            "3/3 [==============================] - 0s 12ms/step - loss: 7.9819 - mean_absolute_error: 1.9349 - val_loss: 12.8142 - val_mean_absolute_error: 2.4905\n",
            "Epoch 160/500\n",
            "3/3 [==============================] - 0s 10ms/step - loss: 7.9864 - mean_absolute_error: 1.9148 - val_loss: 12.4387 - val_mean_absolute_error: 2.4168\n",
            "Epoch 161/500\n",
            "3/3 [==============================] - 0s 13ms/step - loss: 7.3508 - mean_absolute_error: 1.9091 - val_loss: 12.6526 - val_mean_absolute_error: 2.4086\n",
            "Epoch 162/500\n",
            "3/3 [==============================] - 0s 12ms/step - loss: 7.4493 - mean_absolute_error: 1.9386 - val_loss: 12.3324 - val_mean_absolute_error: 2.4542\n",
            "Epoch 163/500\n",
            "3/3 [==============================] - 0s 13ms/step - loss: 8.5580 - mean_absolute_error: 1.8814 - val_loss: 12.8576 - val_mean_absolute_error: 2.4940\n"
          ],
          "name": "stdout"
        }
      ]
    },
    {
      "cell_type": "markdown",
      "metadata": {
        "id": "AYcad45NM607",
        "colab_type": "text"
      },
      "source": [
        "**Evaluating the model**"
      ]
    },
    {
      "cell_type": "code",
      "metadata": {
        "id": "-Eer4G-PNB7p",
        "colab_type": "code",
        "colab": {
          "base_uri": "https://localhost:8080/",
          "height": 51
        },
        "outputId": "60c5324b-3226-4526-9d75-1efcedf28948"
      },
      "source": [
        "score = reg_model.evaluate(x_test_scaled, y_test, verbose=0)\n",
        "\n",
        "print(\"Testing loss: {}\".format(score[0]))\n",
        "print(\"Testing accuracy: {}\".format(score[1]))"
      ],
      "execution_count": 31,
      "outputs": [
        {
          "output_type": "stream",
          "text": [
            "Testing loss: 43.806907653808594\n",
            "Testing accuracy: 2.8654818534851074\n"
          ],
          "name": "stdout"
        }
      ]
    },
    {
      "cell_type": "markdown",
      "metadata": {
        "id": "DIHLwqKpNI9Y",
        "colab_type": "text"
      },
      "source": [
        "**Predictions**\n",
        "- Predict next value using the test data"
      ]
    },
    {
      "cell_type": "code",
      "metadata": {
        "id": "Lj_e4MF8NRPb",
        "colab_type": "code",
        "colab": {
          "base_uri": "https://localhost:8080/",
          "height": 442
        },
        "outputId": "9b769285-c7c4-4f25-89f8-95c5ad55bf31"
      },
      "source": [
        "pred = reg_model.predict(x_test_scaled)\n",
        "print(pred.flatten())\n",
        "print(y_test)"
      ],
      "execution_count": 32,
      "outputs": [
        {
          "output_type": "stream",
          "text": [
            "[ 6.9458904 18.467567  21.735842  33.632977  24.831905  20.091648\n",
            " 28.468908  22.673868  19.377546  22.825743  16.543915  16.31138\n",
            " 15.498384  43.103188  20.46505   20.345287  26.53651   20.021101\n",
            " 19.313828  36.03075   11.803801  16.128708  21.275675  16.121086\n",
            " 22.721872  25.565008  30.997084  30.107725  10.187547  21.615824\n",
            " 21.044786  13.922415  32.9606    25.06373   18.681326   8.566346\n",
            " 15.830754  18.452562  19.38976   27.55778   28.691862  27.886137\n",
            " 14.759734  42.302917  29.433346  23.570385  27.455427  17.828299\n",
            " 23.578249  23.070244  35.646122  18.985659  12.882641  15.6752825\n",
            " 36.22487   27.74181   13.293794  49.373737  33.748146  22.938591\n",
            " 25.370909  17.843616  14.62822   19.721758  23.824976  23.537683\n",
            " 13.369166  24.088467  14.496504   7.3464265 35.192116  29.751926\n",
            " 25.790651  14.352522  26.474428  18.109716  20.722904  24.146875\n",
            " 36.256336  11.753696  20.958544  38.538994  15.264557  14.065775\n",
            " 18.263636  18.607048  22.192436  20.48075   23.079742  30.499912\n",
            " 19.385265  20.63741   26.251143  42.73863   36.06254   18.47699\n",
            " 35.76429   48.23994   27.019732  43.921158  32.4783    20.100883 ]\n",
            "[ 7.2 18.8 19.  27.  22.2 24.5 31.2 22.9 20.5 23.2 18.6 14.5 17.8 50.\n",
            " 20.8 24.3 24.2 19.8 19.1 22.7 12.  10.2 20.  18.5 20.9 23.  27.5 30.1\n",
            "  9.5 22.  21.2 14.1 33.1 23.4 20.1  7.4 15.4 23.8 20.1 24.5 33.  28.4\n",
            " 14.1 46.7 32.5 29.6 28.4 19.8 20.2 25.  35.4 20.3  9.7 14.5 34.9 26.6\n",
            "  7.2 50.  32.4 21.6 29.8 13.1 27.5 21.2 23.1 21.9 13.  23.2  8.1  5.6\n",
            " 21.7 29.6 19.6  7.  26.4 18.9 20.9 28.1 35.4 10.2 24.3 43.1 17.6 15.4\n",
            " 16.2 27.1 21.4 21.5 22.4 25.  16.6 18.6 22.  42.8 35.1 21.5 36.  21.9\n",
            " 24.1 50.  26.7 25. ]\n"
          ],
          "name": "stdout"
        }
      ]
    }
  ]
}