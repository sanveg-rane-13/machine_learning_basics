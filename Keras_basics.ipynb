{
  "nbformat": 4,
  "nbformat_minor": 0,
  "metadata": {
    "colab": {
      "name": "Keras_basics.ipynb",
      "provenance": [],
      "collapsed_sections": [
        "jDh8Isb1ZVuN"
      ],
      "authorship_tag": "ABX9TyPlGM3wyUdg2cSm/ije7TM0",
      "include_colab_link": true
    },
    "kernelspec": {
      "name": "python3",
      "display_name": "Python 3"
    },
    "accelerator": "GPU"
  },
  "cells": [
    {
      "cell_type": "markdown",
      "metadata": {
        "id": "view-in-github",
        "colab_type": "text"
      },
      "source": [
        "<a href=\"https://colab.research.google.com/github/sanveg-rane-13/machine_learning_basics/blob/master/Keras_basics.ipynb\" target=\"_parent\"><img src=\"https://colab.research.google.com/assets/colab-badge.svg\" alt=\"Open In Colab\"/></a>"
      ]
    },
    {
      "cell_type": "markdown",
      "metadata": {
        "id": "Rn6FpkEnBJJb",
        "colab_type": "text"
      },
      "source": [
        "**Train deep neural networks with Keras and evaluate them**"
      ]
    },
    {
      "cell_type": "markdown",
      "metadata": {
        "id": "jDh8Isb1ZVuN",
        "colab_type": "text"
      },
      "source": [
        "# Basic keras NN"
      ]
    },
    {
      "cell_type": "code",
      "metadata": {
        "id": "Dk4_gkAaBBUg",
        "colab_type": "code",
        "colab": {}
      },
      "source": [
        "import tensorflow as tf\n",
        "import numpy as np\n",
        "\n",
        "from tensorflow import keras\n",
        "from tensorflow.keras import layers\n",
        "from tensorflow.keras.models import Sequential\n",
        "from tensorflow.keras.layers import Activation, Dense, LSTM\n",
        "from tensorflow.keras import losses, optimizers, metrics"
      ],
      "execution_count": 0,
      "outputs": []
    },
    {
      "cell_type": "markdown",
      "metadata": {
        "id": "RQY_5qGlKgFV",
        "colab_type": "text"
      },
      "source": [
        "**Basic Keras layer**\n",
        "\n",
        "- Input layer, Hidden layer and Output layer"
      ]
    },
    {
      "cell_type": "code",
      "metadata": {
        "id": "ouTII_fKKiPF",
        "colab_type": "code",
        "colab": {}
      },
      "source": [
        "model = Sequential()\n",
        "\n",
        "input_layer = Dense(32, activation='relu', input_shape=(8,))\n",
        "model.add(input_layer)\n",
        "\n",
        "hidden_layer = Dense(64, activation='relu')\n",
        "model.add(hidden_layer)\n",
        "\n",
        "output_layer = Dense(8)\n",
        "model.add(output_layer)"
      ],
      "execution_count": 0,
      "outputs": []
    },
    {
      "cell_type": "code",
      "metadata": {
        "id": "Wocvs6AwLY4l",
        "colab_type": "code",
        "outputId": "cc7ec4ea-daae-4f04-85da-d242d1e1821a",
        "colab": {
          "base_uri": "https://localhost:8080/",
          "height": 255
        }
      },
      "source": [
        "model.summary()"
      ],
      "execution_count": 0,
      "outputs": [
        {
          "output_type": "stream",
          "text": [
            "Model: \"sequential\"\n",
            "_________________________________________________________________\n",
            "Layer (type)                 Output Shape              Param #   \n",
            "=================================================================\n",
            "dense (Dense)                (None, 32)                288       \n",
            "_________________________________________________________________\n",
            "dense_1 (Dense)              (None, 64)                2112      \n",
            "_________________________________________________________________\n",
            "dense_2 (Dense)              (None, 8)                 520       \n",
            "=================================================================\n",
            "Total params: 2,920\n",
            "Trainable params: 2,920\n",
            "Non-trainable params: 0\n",
            "_________________________________________________________________\n"
          ],
          "name": "stdout"
        }
      ]
    },
    {
      "cell_type": "code",
      "metadata": {
        "id": "6KH_H4xzN-AG",
        "colab_type": "code",
        "colab": {}
      },
      "source": [
        "model.compile(optimizer = 'sgd', \n",
        "              loss = 'mean_squared_error', \n",
        "              metrics = [metrics.categorical_accuracy])"
      ],
      "execution_count": 0,
      "outputs": []
    },
    {
      "cell_type": "markdown",
      "metadata": {
        "id": "-4CwrA8nOkZZ",
        "colab_type": "text"
      },
      "source": [
        "**Creating data**\n",
        "- creating random data using numpy\n",
        "- creating random validation data"
      ]
    },
    {
      "cell_type": "code",
      "metadata": {
        "id": "B5CGLrTyOl-R",
        "colab_type": "code",
        "colab": {}
      },
      "source": [
        "x_train = np.random.random((10,10,10)) \n",
        "y_train = np.random.random((10,10))"
      ],
      "execution_count": 0,
      "outputs": []
    },
    {
      "cell_type": "code",
      "metadata": {
        "id": "kHWmsWLSO76G",
        "colab_type": "code",
        "colab": {}
      },
      "source": [
        "x_val = np.random.random((10,10,10)) \n",
        "y_val = np.random.random((10,10))"
      ],
      "execution_count": 0,
      "outputs": []
    },
    {
      "cell_type": "code",
      "metadata": {
        "id": "991agUa_Pzot",
        "colab_type": "code",
        "colab": {}
      },
      "source": [
        "epochs = 5\n",
        "batch_size = 32"
      ],
      "execution_count": 0,
      "outputs": []
    },
    {
      "cell_type": "markdown",
      "metadata": {
        "id": "oUhRvdN8PFOJ",
        "colab_type": "text"
      },
      "source": [
        "**Building a simple model**"
      ]
    },
    {
      "cell_type": "code",
      "metadata": {
        "id": "VbO7Zs7QPIGo",
        "colab_type": "code",
        "colab": {}
      },
      "source": [
        "lstm_model = Sequential()"
      ],
      "execution_count": 0,
      "outputs": []
    },
    {
      "cell_type": "code",
      "metadata": {
        "id": "35nMxwCxPLtF",
        "colab_type": "code",
        "colab": {}
      },
      "source": [
        "lstm_model.add(Dense(16, activation = 'relu', input_shape=(10,10)))\n",
        "lstm_model.add(LSTM(16, return_sequences = True))\n",
        "lstm_model.add(Dense(10, activation = 'softmax'))"
      ],
      "execution_count": 0,
      "outputs": []
    },
    {
      "cell_type": "code",
      "metadata": {
        "id": "ngS7cW0_PjzJ",
        "colab_type": "code",
        "colab": {}
      },
      "source": [
        "lstm_model.compile(loss = 'categorical_crossentropy',\n",
        "                   optimizer = 'sgd',\n",
        "                   metrics = ['accuracy'])"
      ],
      "execution_count": 0,
      "outputs": []
    },
    {
      "cell_type": "code",
      "metadata": {
        "id": "NC5o8aP7S9mW",
        "colab_type": "code",
        "colab": {}
      },
      "source": [
        "lstm_model.fit(x_train, y_train, batch_size = batch_size, epochs = epochs, validation_data = (x_val, y_val))"
      ],
      "execution_count": 0,
      "outputs": []
    },
    {
      "cell_type": "markdown",
      "metadata": {
        "id": "rUPlUycYTHnY",
        "colab_type": "text"
      },
      "source": [
        "# Multi layer perceptron ANN"
      ]
    },
    {
      "cell_type": "code",
      "metadata": {
        "id": "9SRTYm-STtCZ",
        "colab_type": "code",
        "colab": {}
      },
      "source": [
        "import tensorflow as tf\n",
        "import numpy as np\n",
        "\n",
        "from tensorflow import keras\n",
        "from tensorflow.keras import layers, losses, optimizers, metrics\n",
        "from tensorflow.keras.models import Sequential\n",
        "from tensorflow.keras.layers import Activation, Dense, Dropout\n",
        "from tensorflow.keras.optimizers import RMSprop\n",
        "from tensorflow.keras.datasets import mnist"
      ],
      "execution_count": 0,
      "outputs": []
    },
    {
      "cell_type": "markdown",
      "metadata": {
        "id": "eG5xtc_6TYPt",
        "colab_type": "text"
      },
      "source": [
        "**Input Dataset module**\n",
        "\n",
        "1.   Load MNIST database of handwritten digits\n",
        "2.   Process the data\n"
      ]
    },
    {
      "cell_type": "code",
      "metadata": {
        "id": "sa_PAPdLTHUV",
        "colab_type": "code",
        "outputId": "ebdf075a-9edb-49e7-d4cb-7740111b0d9f",
        "colab": {
          "base_uri": "https://localhost:8080/"
        }
      },
      "source": [
        "(x_train, y_train), (x_test, y_test) = mnist.load_data()"
      ],
      "execution_count": 0,
      "outputs": [
        {
          "output_type": "stream",
          "text": [
            "Downloading data from https://storage.googleapis.com/tensorflow/tf-keras-datasets/mnist.npz\n",
            "11493376/11490434 [==============================] - 0s 0us/step\n"
          ],
          "name": "stdout"
        }
      ]
    },
    {
      "cell_type": "code",
      "metadata": {
        "id": "5ickZRZDVho7",
        "colab_type": "code",
        "colab": {}
      },
      "source": [
        "x_train = x_train.reshape(60000, 784) \n",
        "x_test = x_test.reshape(10000, 784) \n",
        "x_train = x_train.astype('float32') \n",
        "x_test = x_test.astype('float32') \n",
        "x_train /= 255 \n",
        "x_test /= 255\n",
        "\n",
        "y_train = keras.utils.to_categorical(y_train, 10) \n",
        "y_test = keras.utils.to_categorical(y_test, 10)"
      ],
      "execution_count": 0,
      "outputs": []
    },
    {
      "cell_type": "markdown",
      "metadata": {
        "id": "kYP4pC-rUTxn",
        "colab_type": "text"
      },
      "source": [
        "**Creating the model**\n",
        "\n",
        "Layers in the network:\n",
        "- Input layer - 784 features with input and weights\n",
        "- Hidden layer 1 - 512 neurons and relu activation, add a dropout\n",
        "- Hidden layer 2 - 512 neurons and relu activation, add a dropout\n",
        "- Output layer - 10 classifications and softmax activation"
      ]
    },
    {
      "cell_type": "code",
      "metadata": {
        "id": "WitpFn1sULT3",
        "colab_type": "code",
        "colab": {}
      },
      "source": [
        "model = Sequential()"
      ],
      "execution_count": 0,
      "outputs": []
    },
    {
      "cell_type": "code",
      "metadata": {
        "id": "o8Wjc1IeWUO0",
        "colab_type": "code",
        "colab": {}
      },
      "source": [
        "model.add(Dense(512, activation = 'relu', input_shape = (784,)))\n",
        "model.add(Dropout(0.2))\n",
        "\n",
        "model.add(Dense(512, activation = 'relu'))\n",
        "model.add(Dropout(0.2))\n",
        "\n",
        "model.add(Dense(10, activation = 'softmax'))"
      ],
      "execution_count": 0,
      "outputs": []
    },
    {
      "cell_type": "markdown",
      "metadata": {
        "id": "ex3_ku_YUxny",
        "colab_type": "text"
      },
      "source": [
        "**Building the model**\n",
        "- Loss function - categorical_crossentropy\n",
        "- Optimization funtion - RMSprop"
      ]
    },
    {
      "cell_type": "code",
      "metadata": {
        "id": "1bSZKiL3W3Ee",
        "colab_type": "code",
        "colab": {}
      },
      "source": [
        "model.compile(\n",
        "    loss = 'categorical_crossentropy',\n",
        "    optimizer = RMSprop(),\n",
        "    metrics = ['accuracy']\n",
        ")"
      ],
      "execution_count": 0,
      "outputs": []
    },
    {
      "cell_type": "markdown",
      "metadata": {
        "id": "ZmJpYUCxXS3s",
        "colab_type": "text"
      },
      "source": [
        "**Training the model**"
      ]
    },
    {
      "cell_type": "code",
      "metadata": {
        "id": "DehJC_gVXfJN",
        "colab_type": "code",
        "colab": {}
      },
      "source": [
        "batch_size = 128\n",
        "epochs = 20"
      ],
      "execution_count": 0,
      "outputs": []
    },
    {
      "cell_type": "code",
      "metadata": {
        "id": "cfOMzuRXXVtM",
        "colab_type": "code",
        "outputId": "d373ab9d-08cc-4eb3-d47b-c387e684172b",
        "colab": {
          "base_uri": "https://localhost:8080/"
        }
      },
      "source": [
        "trained_model = model.fit(\n",
        "    x_train, y_train,\n",
        "    batch_size = batch_size,\n",
        "    epochs = epochs,\n",
        "    verbose = 1,\n",
        "    validation_data = (x_test, y_test)\n",
        ")"
      ],
      "execution_count": 0,
      "outputs": [
        {
          "output_type": "stream",
          "text": [
            "Epoch 1/20\n",
            "469/469 [==============================] - 9s 19ms/step - loss: 0.2459 - accuracy: 0.9242 - val_loss: 0.1170 - val_accuracy: 0.9636\n",
            "Epoch 2/20\n",
            "469/469 [==============================] - 9s 18ms/step - loss: 0.1027 - accuracy: 0.9695 - val_loss: 0.0856 - val_accuracy: 0.9738\n",
            "Epoch 3/20\n",
            "469/469 [==============================] - 9s 18ms/step - loss: 0.0752 - accuracy: 0.9770 - val_loss: 0.0737 - val_accuracy: 0.9794\n",
            "Epoch 4/20\n",
            "469/469 [==============================] - 9s 18ms/step - loss: 0.0611 - accuracy: 0.9816 - val_loss: 0.0707 - val_accuracy: 0.9810\n",
            "Epoch 5/20\n",
            "469/469 [==============================] - 9s 18ms/step - loss: 0.0509 - accuracy: 0.9844 - val_loss: 0.0649 - val_accuracy: 0.9825\n",
            "Epoch 6/20\n",
            "469/469 [==============================] - 9s 19ms/step - loss: 0.0429 - accuracy: 0.9872 - val_loss: 0.0729 - val_accuracy: 0.9821\n",
            "Epoch 7/20\n",
            "469/469 [==============================] - 9s 18ms/step - loss: 0.0360 - accuracy: 0.9886 - val_loss: 0.0775 - val_accuracy: 0.9812\n",
            "Epoch 8/20\n",
            "469/469 [==============================] - 9s 18ms/step - loss: 0.0342 - accuracy: 0.9896 - val_loss: 0.0755 - val_accuracy: 0.9812\n",
            "Epoch 9/20\n",
            "469/469 [==============================] - 9s 18ms/step - loss: 0.0312 - accuracy: 0.9908 - val_loss: 0.0842 - val_accuracy: 0.9819\n",
            "Epoch 10/20\n",
            "469/469 [==============================] - 9s 18ms/step - loss: 0.0276 - accuracy: 0.9919 - val_loss: 0.0859 - val_accuracy: 0.9829\n",
            "Epoch 11/20\n",
            "469/469 [==============================] - 9s 18ms/step - loss: 0.0247 - accuracy: 0.9930 - val_loss: 0.0923 - val_accuracy: 0.9836\n",
            "Epoch 12/20\n",
            "469/469 [==============================] - 9s 18ms/step - loss: 0.0231 - accuracy: 0.9934 - val_loss: 0.1074 - val_accuracy: 0.9827\n",
            "Epoch 13/20\n",
            "469/469 [==============================] - 9s 18ms/step - loss: 0.0245 - accuracy: 0.9934 - val_loss: 0.0917 - val_accuracy: 0.9840\n",
            "Epoch 14/20\n",
            "469/469 [==============================] - 9s 18ms/step - loss: 0.0217 - accuracy: 0.9936 - val_loss: 0.1084 - val_accuracy: 0.9829\n",
            "Epoch 15/20\n",
            "469/469 [==============================] - 9s 18ms/step - loss: 0.0201 - accuracy: 0.9943 - val_loss: 0.1072 - val_accuracy: 0.9817\n",
            "Epoch 16/20\n",
            "469/469 [==============================] - 9s 18ms/step - loss: 0.0194 - accuracy: 0.9947 - val_loss: 0.1038 - val_accuracy: 0.9834\n",
            "Epoch 17/20\n",
            "469/469 [==============================] - 9s 19ms/step - loss: 0.0197 - accuracy: 0.9951 - val_loss: 0.1222 - val_accuracy: 0.9822\n",
            "Epoch 18/20\n",
            "469/469 [==============================] - 9s 18ms/step - loss: 0.0171 - accuracy: 0.9952 - val_loss: 0.1202 - val_accuracy: 0.9824\n",
            "Epoch 19/20\n",
            "469/469 [==============================] - 9s 19ms/step - loss: 0.0188 - accuracy: 0.9951 - val_loss: 0.1042 - val_accuracy: 0.9849\n",
            "Epoch 20/20\n",
            "469/469 [==============================] - 9s 18ms/step - loss: 0.0186 - accuracy: 0.9950 - val_loss: 0.1133 - val_accuracy: 0.9846\n"
          ],
          "name": "stdout"
        }
      ]
    },
    {
      "cell_type": "markdown",
      "metadata": {
        "id": "3QyH8By3Z2x5",
        "colab_type": "text"
      },
      "source": [
        "**Evaluating the model**\n",
        "- The tesing accuracy and the loss function value"
      ]
    },
    {
      "cell_type": "code",
      "metadata": {
        "id": "g-ni9kQTZ5z0",
        "colab_type": "code",
        "outputId": "dc2fd911-8c00-47a6-b91d-44c91c3e066f",
        "colab": {
          "base_uri": "https://localhost:8080/"
        }
      },
      "source": [
        "score = model.evaluate(x_test, y_test, verbose=0)\n",
        "\n",
        "print(\"Testing loss: {0:.2%}\".format(score[0]))\n",
        "print(\"Testing accuracy: {0:.2%}\".format(score[1]))"
      ],
      "execution_count": 0,
      "outputs": [
        {
          "output_type": "stream",
          "text": [
            "Testing loss: 11.44%\n",
            "Testing accuracy: 98.46%\n"
          ],
          "name": "stdout"
        }
      ]
    },
    {
      "cell_type": "markdown",
      "metadata": {
        "id": "_00Flpaqas2j",
        "colab_type": "text"
      },
      "source": [
        "**Predictions using the model**\n",
        "\n",
        "- Predicting the first five values in test data"
      ]
    },
    {
      "cell_type": "code",
      "metadata": {
        "id": "u-NcscNta96i",
        "colab_type": "code",
        "outputId": "d03ee2e4-d38a-47d9-c328-21e83bd5da65",
        "colab": {
          "base_uri": "https://localhost:8080/"
        }
      },
      "source": [
        "pred = model.predict(x_test)\n",
        "\n",
        "predicted_val = np.argmax(pred, axis = 1)[:5]\n",
        "actual_val = np.argmax(y_test, axis = 1)[:5]\n",
        "\n",
        "print(predicted_val)\n",
        "print(actual_val)"
      ],
      "execution_count": 0,
      "outputs": [
        {
          "output_type": "stream",
          "text": [
            "[7 2 1 0 4]\n",
            "[7 2 1 0 4]\n"
          ],
          "name": "stdout"
        }
      ]
    },
    {
      "cell_type": "markdown",
      "metadata": {
        "id": "ZdqsxoE-7w_a",
        "colab_type": "text"
      },
      "source": [
        "# Convolutional Neural Network"
      ]
    },
    {
      "cell_type": "markdown",
      "metadata": {
        "id": "-dOyHT1i73_P",
        "colab_type": "text"
      },
      "source": [
        "Converting the digit identification problem from MLP to CNN\n"
      ]
    },
    {
      "cell_type": "code",
      "metadata": {
        "id": "MHvuTCA08M7X",
        "colab_type": "code",
        "colab": {}
      },
      "source": [
        "import tensorflow as tf\n",
        "import numpy as np\n",
        "\n",
        "from tensorflow import keras\n",
        "from tensorflow.keras import backend as K\n",
        "from tensorflow.keras import layers, losses, optimizers, metrics\n",
        "from tensorflow.keras.models import Sequential\n",
        "from tensorflow.keras.layers import Activation, Dense, Dropout, Flatten\n",
        "from tensorflow.keras.layers import Conv2D, MaxPool2D\n",
        "from tensorflow.keras.optimizers import Adadelta\n",
        "from tensorflow.keras.datasets import mnist"
      ],
      "execution_count": 0,
      "outputs": []
    },
    {
      "cell_type": "markdown",
      "metadata": {
        "id": "ELYIqp7b8a9b",
        "colab_type": "text"
      },
      "source": [
        "**Loading data**"
      ]
    },
    {
      "cell_type": "code",
      "metadata": {
        "id": "iwVuXxYc8cRo",
        "colab_type": "code",
        "colab": {}
      },
      "source": [
        "(x_train, y_train), (x_test, y_test) = mnist.load_data()"
      ],
      "execution_count": 0,
      "outputs": []
    },
    {
      "cell_type": "markdown",
      "metadata": {
        "id": "qNpaUAtI9HgQ",
        "colab_type": "text"
      },
      "source": [
        "**Processing the data**\n",
        "- processing data to feed to the model"
      ]
    },
    {
      "cell_type": "code",
      "metadata": {
        "id": "p7PDV0189OjL",
        "colab_type": "code",
        "colab": {}
      },
      "source": [
        "img_rows, img_cols = 28, 28\n",
        "\n",
        "if K.image_data_format() == 'channels_first':\n",
        "  x_train = x_train.reshape(x_train.shape[0], 1, img_rows, img_cols)\n",
        "  x_test = x_test.reshape(x_test.shape[0], 1, img_rows, img_cols)\n",
        "  input_shape = (1, img_rows, img_cols)\n",
        "\n",
        "else:\n",
        "  x_train = x_train.reshape(x_train.shape[0], img_rows, img_cols, 1)\n",
        "  x_test = x_test.reshape(x_test.shape[0], img_rows, img_cols, 1)\n",
        "  input_shape = (img_rows, img_cols, 1)\n",
        "\n",
        "x_train = x_train.astype('float32') \n",
        "x_test = x_test.astype('float32') \n",
        "x_train /= 255 \n",
        "x_test /= 255\n",
        "\n",
        "y_train = keras.utils.to_categorical(y_train, 10) \n",
        "y_test = keras.utils.to_categorical(y_test, 10)"
      ],
      "execution_count": 0,
      "outputs": []
    },
    {
      "cell_type": "markdown",
      "metadata": {
        "id": "PSvYW1Cm8nOV",
        "colab_type": "text"
      },
      "source": [
        "**Creating model**\n",
        "\n",
        "- Input layer\n",
        "- Convolutional layer 1 - shape: 1,28,28; activation: relu; neurons: 32\n",
        "- Convolutional layer 2 - activation: relu, neurons: 64\n",
        "- Pooling layer 1 - pool size: 2,2\n",
        "- Dropout layer\n",
        "- Flatten - flatten all inputs to single dimension\n",
        "- Dense layer - 128 neurons, activation: relu\n",
        "- Dropout layer\n",
        "- Output layer - 10 classifications , activation: softmax"
      ]
    },
    {
      "cell_type": "code",
      "metadata": {
        "id": "BqaEO8xC8oSt",
        "colab_type": "code",
        "colab": {}
      },
      "source": [
        "cnn_model = Sequential()"
      ],
      "execution_count": 0,
      "outputs": []
    },
    {
      "cell_type": "code",
      "metadata": {
        "id": "VQOJ5hSa_HAv",
        "colab_type": "code",
        "colab": {}
      },
      "source": [
        "cnn_model.add(Conv2D(32, input_shape = input_shape, activation = 'relu', kernel_size = (3,3)))\n",
        "cnn_model.add(Conv2D(64, activation = 'relu', kernel_size = (3,3)))\n",
        "cnn_model.add(MaxPool2D(pool_size = (2,2)))\n",
        "cnn_model.add(Dropout(0.25))\n",
        "cnn_model.add(Flatten())\n",
        "cnn_model.add(Dense(128, activation = 'relu'))\n",
        "cnn_model.add(Dropout(0.5))\n",
        "cnn_model.add(Dense(10, activation = 'softmax'))"
      ],
      "execution_count": 0,
      "outputs": []
    },
    {
      "cell_type": "markdown",
      "metadata": {
        "id": "XS9VvfTJARsF",
        "colab_type": "text"
      },
      "source": [
        "**Building the model**\n",
        "- Loss function - categorical_crossentropy\n",
        "- Optimization funtion - Ada delta"
      ]
    },
    {
      "cell_type": "code",
      "metadata": {
        "id": "RGsL4aYFARSf",
        "colab_type": "code",
        "colab": {}
      },
      "source": [
        "cnn_model.compile(\n",
        "    loss = 'categorical_crossentropy',\n",
        "    optimizer = RMSprop(),\n",
        "    metrics = ['accuracy']\n",
        ")"
      ],
      "execution_count": 0,
      "outputs": []
    },
    {
      "cell_type": "markdown",
      "metadata": {
        "id": "SOSBiF9DCdl-",
        "colab_type": "text"
      },
      "source": [
        "**Training the model**"
      ]
    },
    {
      "cell_type": "code",
      "metadata": {
        "id": "jXc3tah8ChAJ",
        "colab_type": "code",
        "colab": {}
      },
      "source": [
        "batch_size = 128\n",
        "epochs = 12\n",
        "verbose = 1 # generated logs"
      ],
      "execution_count": 0,
      "outputs": []
    },
    {
      "cell_type": "code",
      "metadata": {
        "id": "flGfdwWECfUj",
        "colab_type": "code",
        "colab": {
          "base_uri": "https://localhost:8080/",
          "height": 442
        },
        "outputId": "934650f6-4312-4887-d7e9-61b320d22ef7"
      },
      "source": [
        "cnn_model.fit(\n",
        "    x_train, y_train,\n",
        "    batch_size = batch_size,\n",
        "    epochs = epochs,\n",
        "    verbose = verbose,\n",
        "    validation_data = (x_test, y_test)\n",
        ")"
      ],
      "execution_count": 15,
      "outputs": [
        {
          "output_type": "stream",
          "text": [
            "Epoch 1/12\n",
            "469/469 [==============================] - 5s 11ms/step - loss: 0.2229 - accuracy: 0.9316 - val_loss: 0.0645 - val_accuracy: 0.9782\n",
            "Epoch 2/12\n",
            "469/469 [==============================] - 5s 11ms/step - loss: 0.0817 - accuracy: 0.9757 - val_loss: 0.0420 - val_accuracy: 0.9866\n",
            "Epoch 3/12\n",
            "469/469 [==============================] - 5s 11ms/step - loss: 0.0650 - accuracy: 0.9810 - val_loss: 0.0342 - val_accuracy: 0.9889\n",
            "Epoch 4/12\n",
            "469/469 [==============================] - 5s 11ms/step - loss: 0.0547 - accuracy: 0.9840 - val_loss: 0.0347 - val_accuracy: 0.9895\n",
            "Epoch 5/12\n",
            "469/469 [==============================] - 5s 11ms/step - loss: 0.0484 - accuracy: 0.9864 - val_loss: 0.0347 - val_accuracy: 0.9897\n",
            "Epoch 6/12\n",
            "469/469 [==============================] - 5s 11ms/step - loss: 0.0467 - accuracy: 0.9864 - val_loss: 0.0312 - val_accuracy: 0.9903\n",
            "Epoch 7/12\n",
            "469/469 [==============================] - 5s 11ms/step - loss: 0.0468 - accuracy: 0.9866 - val_loss: 0.0290 - val_accuracy: 0.9899\n",
            "Epoch 8/12\n",
            "469/469 [==============================] - 5s 11ms/step - loss: 0.0491 - accuracy: 0.9863 - val_loss: 0.0346 - val_accuracy: 0.9895\n",
            "Epoch 9/12\n",
            "469/469 [==============================] - 5s 11ms/step - loss: 0.0484 - accuracy: 0.9868 - val_loss: 0.0889 - val_accuracy: 0.9867\n",
            "Epoch 10/12\n",
            "469/469 [==============================] - 5s 11ms/step - loss: 0.0502 - accuracy: 0.9859 - val_loss: 0.0451 - val_accuracy: 0.9875\n",
            "Epoch 11/12\n",
            "469/469 [==============================] - 5s 11ms/step - loss: 0.0502 - accuracy: 0.9863 - val_loss: 0.0306 - val_accuracy: 0.9918\n",
            "Epoch 12/12\n",
            "469/469 [==============================] - 5s 11ms/step - loss: 0.0548 - accuracy: 0.9855 - val_loss: 0.0460 - val_accuracy: 0.9903\n"
          ],
          "name": "stdout"
        },
        {
          "output_type": "execute_result",
          "data": {
            "text/plain": [
              "<tensorflow.python.keras.callbacks.History at 0x7ff41a6631d0>"
            ]
          },
          "metadata": {
            "tags": []
          },
          "execution_count": 15
        }
      ]
    },
    {
      "cell_type": "markdown",
      "metadata": {
        "id": "5WNBxblVC2wj",
        "colab_type": "text"
      },
      "source": [
        "**Evaluating the model**"
      ]
    },
    {
      "cell_type": "code",
      "metadata": {
        "id": "3mK8aerWC58f",
        "colab_type": "code",
        "colab": {
          "base_uri": "https://localhost:8080/",
          "height": 51
        },
        "outputId": "04f5a847-b8f4-40f3-9c0f-3ba755444c1d"
      },
      "source": [
        "score = cnn_model.evaluate(x_test, y_test, verbose=0)\n",
        "\n",
        "print(\"Testing loss: {0:.2%}\".format(score[0]))\n",
        "print(\"Testing accuracy: {0:.2%}\".format(score[1]))"
      ],
      "execution_count": 16,
      "outputs": [
        {
          "output_type": "stream",
          "text": [
            "Testing loss: 4.64%\n",
            "Testing accuracy: 99.03%\n"
          ],
          "name": "stdout"
        }
      ]
    },
    {
      "cell_type": "markdown",
      "metadata": {
        "id": "-jkACjN8DBzY",
        "colab_type": "text"
      },
      "source": [
        "**Predictions using the model**\n",
        "\n",
        "- Predicting the first five values in test data"
      ]
    },
    {
      "cell_type": "code",
      "metadata": {
        "id": "uLxvWGmNDCen",
        "colab_type": "code",
        "colab": {
          "base_uri": "https://localhost:8080/",
          "height": 51
        },
        "outputId": "99712868-fd7d-40a4-e7d6-535361339e53"
      },
      "source": [
        "pred = cnn_model.predict(x_test)\n",
        "\n",
        "predicted_val = np.argmax(pred, axis = 1)[:5]\n",
        "actual_val = np.argmax(y_test, axis = 1)[:5]\n",
        "\n",
        "print(predicted_val)\n",
        "print(actual_val)"
      ],
      "execution_count": 17,
      "outputs": [
        {
          "output_type": "stream",
          "text": [
            "[7 2 1 0 4]\n",
            "[7 2 1 0 4]\n"
          ],
          "name": "stdout"
        }
      ]
    }
  ]
}